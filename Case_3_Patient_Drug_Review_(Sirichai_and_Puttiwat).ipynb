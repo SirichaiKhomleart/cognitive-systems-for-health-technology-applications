{
  "nbformat": 4,
  "nbformat_minor": 0,
  "metadata": {
    "colab": {
      "name": "Case_3_Patient_Drug_Review_(Sirichai_and_Puttiwat).ipynb",
      "version": "0.3.2",
      "provenance": [],
      "collapsed_sections": [],
      "toc_visible": true,
      "include_colab_link": true
    },
    "kernelspec": {
      "name": "python3",
      "display_name": "Python 3"
    },
    "accelerator": "TPU"
  },
  "cells": [
    {
      "cell_type": "markdown",
      "metadata": {
        "id": "view-in-github",
        "colab_type": "text"
      },
      "source": [
        "<a href=\"https://colab.research.google.com/github/SirichaiKhomleart/cognitive-systems-for-health-technology-applications/blob/master/Case_3_Patient_Drug_Review_(Sirichai_and_Puttiwat).ipynb\" target=\"_parent\"><img src=\"https://colab.research.google.com/assets/colab-badge.svg\" alt=\"Open In Colab\"/></a>"
      ]
    },
    {
      "metadata": {
        "id": "VAES2-MJ1adq",
        "colab_type": "text"
      },
      "cell_type": "markdown",
      "source": [
        "# Case 3. Patient Drug Review\n",
        "Mr.Sirichai Khomleart<br>\n",
        "Mr.Puttiwat Wanna<br>\n",
        "Last edited: 17.04.2018<br>\n",
        "Cognitive Systems for Health Technology Applications<br>\n",
        "[Helsinki Metropolia University of Applied Sciences](http://www.metropolia.fi/en/)<br>"
      ]
    },
    {
      "metadata": {
        "id": "1PVEEAcW2kij",
        "colab_type": "text"
      },
      "cell_type": "markdown",
      "source": [
        "## 0. Table of Contents\n",
        "1. Objectives\n",
        "2. Required Libraries\n",
        "3. Data Description and Preprocessing\n",
        "        3.1. Importing Datasets\n",
        "        3.2. Converting Reviews into 3 Classes and Solving Unbalanced Classes\n",
        "        3.3. Stemming Words\n",
        "        3.4. Removing Stop Words\n",
        "        3.5. Converting Reviews to Padded Sequences\n",
        "        3.6. Convering labels to one-hot-categories\n",
        "        3.7. Preparing Testing \n",
        "        3.8. Creating Only-selected-drug Data for Models in Part 4.3\n",
        "        3.9. Declaring Helper Functions\n",
        "4. Modeling and Compilation\n",
        "        4.1. Model without Preprocessing Data\n",
        "              4.1.1. Conv1D Model\n",
        "              4.1.2. LSTM Model\n",
        "              4.1.3. GRU Model\n",
        "        4.2. Model with Preprocessing Data\n",
        "              4.2.1. Conv1D Model\n",
        "              4.2.2. LSTM Model\n",
        "              4.2.3. GRU Model\n",
        "        4.3. Model with Selected Drug Data\n",
        "              4.3.1. GRU Model for Levonorgestrel Drug\n",
        "              4.3.2. GRU Model for Etonogestrel Drug\n",
        "5. Training and Validation\n",
        "        5.1. Training Model without Preprocessing Data\n",
        "              5.1.1. Conv1D Model\n",
        "              5.1.2. LSTM Model\n",
        "              5.1.3. GRU Model\n",
        "        5.2. Training Model with Preprocessing Data\n",
        "              5.2.1. Conv1D Model\n",
        "              5.2.2. LSTM Model\n",
        "              5.2.3. GRU Model\n",
        "        5.3. Training Model with Selected Drug Data\n",
        "              5.3.1. GRU Model for Levonorgestrel Drug\n",
        "              5.3.2. GRU Model for Etonogestrel Drug\n",
        "6. Evaluation\n",
        "        6.1. Validation Comparison between Using Non-preprocessed Data and Preprocessed Data\n",
        "        6.2. Test Scores for Best Selected Model\n",
        "7. Results and Discussion\n",
        "        7.1. Discussion about Preprocessing Data\n",
        "        7.2. Discussion about Seperated Model for each Drug\n",
        "        7.3. Discussion about Overfitting\n",
        "8. Conclusions"
      ]
    },
    {
      "metadata": {
        "id": "_FY2MSuo1adt",
        "colab_type": "text"
      },
      "cell_type": "markdown",
      "source": [
        "## 1. Objectives"
      ]
    },
    {
      "metadata": {
        "id": "4wSnm2jk1adv",
        "colab_type": "text"
      },
      "cell_type": "markdown",
      "source": [
        "This case study aims for objectives as following\n",
        "- Learn to build a model for classification texts and documents \n",
        "- Use Keras’ neural networks and other models to make an expert system to support doctors and pharmacists in order to analyze drug reviews.\n",
        "- Understand the nature of models used to train with text data, including Conv1D, LSTM, GRU, etc.\n",
        "- Understand how to preprocess text data input using different techniques.\n",
        "- Learn about word stemming technque to find the root word to be used in this experiment study.\n",
        "- Learn to test model architectures (number of filters, filter size, activation functions) and training settings (epochs, batch sizes, validation splits).\n",
        "- Learn to make the documentation of the results clearly and in easily readable format.\n",
        "- Learn to perform methods to improve accuracy of models. For example, regularization, drop out, etc\n",
        "\n"
      ]
    },
    {
      "metadata": {
        "id": "-wLvzmNf1adx",
        "colab_type": "text"
      },
      "cell_type": "markdown",
      "source": [
        "\n",
        "## 2. Required Libraries"
      ]
    },
    {
      "metadata": {
        "id": "qBNeZyV8xhRC",
        "colab_type": "text"
      },
      "cell_type": "markdown",
      "source": [
        "We began our case study 3 by importing all neccessary libraries below."
      ]
    },
    {
      "metadata": {
        "id": "W9fSN3bi1adz",
        "colab_type": "code",
        "outputId": "89e7b84e-45d7-4fb2-b728-952e746b0c9e",
        "colab": {
          "base_uri": "https://localhost:8080/",
          "height": 612
        }
      },
      "cell_type": "code",
      "source": [
        "#Required libraries for this case study\n",
        "\n",
        "#basic libraries\n",
        "%pylab inline\n",
        "import time\n",
        "from time import localtime, strftime\n",
        "import cv2 #opencv\n",
        "import numpy as np # linear algebra\n",
        "import pandas as pd # data processing, CSV file I/O (e.g. pd.read_csv)\n",
        "import os\n",
        "print(os.listdir(\"../content\"))\n",
        "import pickle\n",
        "import warnings\n",
        "warnings.filterwarnings(\"ignore\") #Disable warnings\n",
        "!pip install texttable\n",
        "from texttable import Texttable # for creating table\n",
        "import tensorflow as tf\n",
        "\n",
        "#keras libraries\n",
        "import keras\n",
        "from keras import backend as K\n",
        "from keras import models, layers\n",
        "from keras import optimizers\n",
        "from keras.models import Sequential\n",
        "from keras.models import Model, load_model\n",
        "from keras.models import Sequential\n",
        "from keras.layers import Dropout\n",
        "from keras.layers import Activation\n",
        "from keras.layers import Conv1D, MaxPooling1D, GlobalMaxPooling1D\n",
        "from keras.layers import LSTM\n",
        "from keras.layers import GRU\n",
        "from keras.layers import Embedding, Flatten, Dense\n",
        "from keras.utils import to_categorical\n",
        "from keras.callbacks import ModelCheckpoint\n",
        "from keras.callbacks import EarlyStopping\n",
        "from keras.regularizers import l1\n",
        "from keras.preprocessing.text import Tokenizer\n",
        "from keras.preprocessing.sequence import pad_sequences\n",
        "\n",
        "#sklearn libraries\n",
        "import sklearn as skl\n",
        "from sklearn.model_selection import train_test_split\n",
        "from sklearn.model_selection import StratifiedShuffleSplit\n",
        "from sklearn.utils import shuffle #shuffle dataset\n",
        "from sklearn.utils import class_weight\n",
        "from sklearn.metrics import roc_curve #ROC Curves\n",
        "from sklearn.metrics import auc #AUC \n",
        "from sklearn.metrics import confusion_matrix, cohen_kappa_score, classification_report #For Analysis\n",
        "from sklearn.metrics import accuracy_score, roc_curve, precision_recall_fscore_support #For Calculation Scores\n",
        "from sklearn.preprocessing import normalize #normalize dataset\n",
        "\n",
        "#libraries for word preprocessing\n",
        "import re # for cleaning data\n",
        "from nltk.tokenize import sent_tokenize, word_tokenize #for word tokenization\n",
        "from nltk.stem import PorterStemmer # for word stemming \n",
        "ps = PorterStemmer()"
      ],
      "execution_count": 0,
      "outputs": [
        {
          "output_type": "stream",
          "text": [
            "Populating the interactive namespace from numpy and matplotlib\n",
            "['.config', 'drugsComTrain_raw.csv', 'drugsComTest_raw.csv', 'sample_data']\n",
            "Collecting texttable\n",
            "  Downloading https://files.pythonhosted.org/packages/04/c6/7d2514d76fefba65bfe2fa4e1082c3adea9edef5a149a3027b8f2d5ee0eb/texttable-1.6.1.tar.gz\n",
            "Building wheels for collected packages: texttable\n",
            "  Building wheel for texttable (setup.py) ... \u001b[?25ldone\n",
            "\u001b[?25h  Stored in directory: /root/.cache/pip/wheels/a7/4e/77/da46da4c5aece69b701cf45e6e4fe56ff98bfbdcc7b271d03b\n",
            "Successfully built texttable\n",
            "Installing collected packages: texttable\n",
            "Successfully installed texttable-1.6.1\n"
          ],
          "name": "stdout"
        },
        {
          "output_type": "stream",
          "text": [
            "Using TensorFlow backend.\n"
          ],
          "name": "stderr"
        }
      ]
    },
    {
      "metadata": {
        "id": "ecQvXLOK1ad6",
        "colab_type": "text"
      },
      "cell_type": "markdown",
      "source": [
        "## 3. Data Description and Preprocessing"
      ]
    },
    {
      "metadata": {
        "id": "zm0F7oGh1ad8",
        "colab_type": "text"
      },
      "cell_type": "markdown",
      "source": [
        "\n",
        "Throughout this case study, we used the dataset from https://www.kaggle.com/jessicali9530/kuc-hackathon-winter-2018 provided by Jessica Li and her team as our main source of data.\n",
        "\n",
        "<br>This dataset was used for the Winter 2018 Kaggle University Club Hackathon. The dataset is all about reviews and ratings of different kinds of drug, it contained around 16000 review texts from different drug users.\n",
        "\n",
        "<br>This dataset contained two files listed below.\n",
        "- *drugsComTest_raw.csv* This is CSV file for training and validation data. There are 7 columns describing the data.\n",
        "  1. **uniqueID** Primary key for this table\n",
        "  2. **drugName** Name of the drug reviewed by pateints/users\n",
        "  3. **condition** Name of condition asscociated with patients/users that use the drug\n",
        "  4. **review** Review text from patients/users\n",
        "  5. **rating** Rating of drugs ranging from 1 to 10\n",
        "  6. **date** Date of the review entry\n",
        "  7. **usefulCount** Number of users who found this review useful\n",
        " \n",
        "- *drugsComTrain_raw.csv* This is CSV file for testing data. There are 7 columns describing the data.\n",
        "  1. **uniqueID** Primary key for this table\n",
        "  2. **drugName** Name of the drug reviewed by pateints/users\n",
        "  3. **condition** Name of condition asscociated with patients/users that use the drug\n",
        "  4. **review** Review text from patients/users\n",
        "  5. **rating** Rating of drugs ranging from 1 to 10\n",
        "  6. **date** Date of the review entry\n",
        "  7. **usefulCount** Number of users who found this review useful\n",
        "  \n",
        "  <br>Note that this study case will predict the rating of the drug into three categories. The data will be preprocessed from 10 class rating into three level rating labeled as \n",
        "  - -1 (negative review)\n",
        "  - 0 (neutral review)\n",
        "  - 1 (positive review)"
      ]
    },
    {
      "metadata": {
        "id": "Xb4CYKxO9ADb",
        "colab_type": "text"
      },
      "cell_type": "markdown",
      "source": [
        "### 3.1. Importing Datasets\n",
        "<hr>"
      ]
    },
    {
      "metadata": {
        "id": "vhQndr1Y1ad9",
        "colab_type": "code",
        "outputId": "da8c6bb1-54fa-40cd-d753-3f25b5ca9102",
        "colab": {
          "base_uri": "https://localhost:8080/",
          "height": 630
        }
      },
      "cell_type": "code",
      "source": [
        "# Read the data\n",
        "data = pd.read_csv('../content/drugsComTrain_raw.csv')\n",
        "# Show the head of the data\n",
        "data.head()"
      ],
      "execution_count": 0,
      "outputs": [
        {
          "output_type": "execute_result",
          "data": {
            "text/html": [
              "<div>\n",
              "<style scoped>\n",
              "    .dataframe tbody tr th:only-of-type {\n",
              "        vertical-align: middle;\n",
              "    }\n",
              "\n",
              "    .dataframe tbody tr th {\n",
              "        vertical-align: top;\n",
              "    }\n",
              "\n",
              "    .dataframe thead th {\n",
              "        text-align: right;\n",
              "    }\n",
              "</style>\n",
              "<table border=\"1\" class=\"dataframe\">\n",
              "  <thead>\n",
              "    <tr style=\"text-align: right;\">\n",
              "      <th></th>\n",
              "      <th>uniqueID</th>\n",
              "      <th>drugName</th>\n",
              "      <th>condition</th>\n",
              "      <th>review</th>\n",
              "      <th>rating</th>\n",
              "      <th>date</th>\n",
              "      <th>usefulCount</th>\n",
              "    </tr>\n",
              "  </thead>\n",
              "  <tbody>\n",
              "    <tr>\n",
              "      <th>0</th>\n",
              "      <td>206461</td>\n",
              "      <td>Valsartan</td>\n",
              "      <td>Left Ventricular Dysfunction</td>\n",
              "      <td>\"It has no side effect, I take it in combinati...</td>\n",
              "      <td>9</td>\n",
              "      <td>20-May-12</td>\n",
              "      <td>27</td>\n",
              "    </tr>\n",
              "    <tr>\n",
              "      <th>1</th>\n",
              "      <td>95260</td>\n",
              "      <td>Guanfacine</td>\n",
              "      <td>ADHD</td>\n",
              "      <td>\"My son is halfway through his fourth week of ...</td>\n",
              "      <td>8</td>\n",
              "      <td>27-Apr-10</td>\n",
              "      <td>192</td>\n",
              "    </tr>\n",
              "    <tr>\n",
              "      <th>2</th>\n",
              "      <td>92703</td>\n",
              "      <td>Lybrel</td>\n",
              "      <td>Birth Control</td>\n",
              "      <td>\"I used to take another oral contraceptive, wh...</td>\n",
              "      <td>5</td>\n",
              "      <td>14-Dec-09</td>\n",
              "      <td>17</td>\n",
              "    </tr>\n",
              "    <tr>\n",
              "      <th>3</th>\n",
              "      <td>138000</td>\n",
              "      <td>Ortho Evra</td>\n",
              "      <td>Birth Control</td>\n",
              "      <td>\"This is my first time using any form of birth...</td>\n",
              "      <td>8</td>\n",
              "      <td>3-Nov-15</td>\n",
              "      <td>10</td>\n",
              "    </tr>\n",
              "    <tr>\n",
              "      <th>4</th>\n",
              "      <td>35696</td>\n",
              "      <td>Buprenorphine / naloxone</td>\n",
              "      <td>Opiate Dependence</td>\n",
              "      <td>\"Suboxone has completely turned my life around...</td>\n",
              "      <td>9</td>\n",
              "      <td>27-Nov-16</td>\n",
              "      <td>37</td>\n",
              "    </tr>\n",
              "  </tbody>\n",
              "</table>\n",
              "</div>"
            ],
            "text/plain": [
              "   uniqueID                  drugName                     condition  \\\n",
              "0    206461                 Valsartan  Left Ventricular Dysfunction   \n",
              "1     95260                Guanfacine                          ADHD   \n",
              "2     92703                    Lybrel                 Birth Control   \n",
              "3    138000                Ortho Evra                 Birth Control   \n",
              "4     35696  Buprenorphine / naloxone             Opiate Dependence   \n",
              "\n",
              "                                              review  rating       date  \\\n",
              "0  \"It has no side effect, I take it in combinati...       9  20-May-12   \n",
              "1  \"My son is halfway through his fourth week of ...       8  27-Apr-10   \n",
              "2  \"I used to take another oral contraceptive, wh...       5  14-Dec-09   \n",
              "3  \"This is my first time using any form of birth...       8   3-Nov-15   \n",
              "4  \"Suboxone has completely turned my life around...       9  27-Nov-16   \n",
              "\n",
              "   usefulCount  \n",
              "0           27  \n",
              "1          192  \n",
              "2           17  \n",
              "3           10  \n",
              "4           37  "
            ]
          },
          "metadata": {
            "tags": []
          },
          "execution_count": 2
        }
      ]
    },
    {
      "metadata": {
        "id": "fvAz3BPq9VoD",
        "colab_type": "code",
        "outputId": "4b0057aa-1815-4511-b770-23e4f8e8dcb1",
        "colab": {
          "base_uri": "https://localhost:8080/",
          "height": 297
        }
      },
      "cell_type": "code",
      "source": [
        "# Show data summary\n",
        "data.describe()"
      ],
      "execution_count": 0,
      "outputs": [
        {
          "output_type": "execute_result",
          "data": {
            "text/html": [
              "<div>\n",
              "<style scoped>\n",
              "    .dataframe tbody tr th:only-of-type {\n",
              "        vertical-align: middle;\n",
              "    }\n",
              "\n",
              "    .dataframe tbody tr th {\n",
              "        vertical-align: top;\n",
              "    }\n",
              "\n",
              "    .dataframe thead th {\n",
              "        text-align: right;\n",
              "    }\n",
              "</style>\n",
              "<table border=\"1\" class=\"dataframe\">\n",
              "  <thead>\n",
              "    <tr style=\"text-align: right;\">\n",
              "      <th></th>\n",
              "      <th>uniqueID</th>\n",
              "      <th>rating</th>\n",
              "      <th>usefulCount</th>\n",
              "    </tr>\n",
              "  </thead>\n",
              "  <tbody>\n",
              "    <tr>\n",
              "      <th>count</th>\n",
              "      <td>161297.000000</td>\n",
              "      <td>161297.000000</td>\n",
              "      <td>161297.000000</td>\n",
              "    </tr>\n",
              "    <tr>\n",
              "      <th>mean</th>\n",
              "      <td>115923.585305</td>\n",
              "      <td>6.994377</td>\n",
              "      <td>28.004755</td>\n",
              "    </tr>\n",
              "    <tr>\n",
              "      <th>std</th>\n",
              "      <td>67004.445170</td>\n",
              "      <td>3.272329</td>\n",
              "      <td>36.403742</td>\n",
              "    </tr>\n",
              "    <tr>\n",
              "      <th>min</th>\n",
              "      <td>2.000000</td>\n",
              "      <td>1.000000</td>\n",
              "      <td>0.000000</td>\n",
              "    </tr>\n",
              "    <tr>\n",
              "      <th>25%</th>\n",
              "      <td>58063.000000</td>\n",
              "      <td>5.000000</td>\n",
              "      <td>6.000000</td>\n",
              "    </tr>\n",
              "    <tr>\n",
              "      <th>50%</th>\n",
              "      <td>115744.000000</td>\n",
              "      <td>8.000000</td>\n",
              "      <td>16.000000</td>\n",
              "    </tr>\n",
              "    <tr>\n",
              "      <th>75%</th>\n",
              "      <td>173776.000000</td>\n",
              "      <td>10.000000</td>\n",
              "      <td>36.000000</td>\n",
              "    </tr>\n",
              "    <tr>\n",
              "      <th>max</th>\n",
              "      <td>232291.000000</td>\n",
              "      <td>10.000000</td>\n",
              "      <td>1291.000000</td>\n",
              "    </tr>\n",
              "  </tbody>\n",
              "</table>\n",
              "</div>"
            ],
            "text/plain": [
              "            uniqueID         rating    usefulCount\n",
              "count  161297.000000  161297.000000  161297.000000\n",
              "mean   115923.585305       6.994377      28.004755\n",
              "std     67004.445170       3.272329      36.403742\n",
              "min         2.000000       1.000000       0.000000\n",
              "25%     58063.000000       5.000000       6.000000\n",
              "50%    115744.000000       8.000000      16.000000\n",
              "75%    173776.000000      10.000000      36.000000\n",
              "max    232291.000000      10.000000    1291.000000"
            ]
          },
          "metadata": {
            "tags": []
          },
          "execution_count": 3
        }
      ]
    },
    {
      "metadata": {
        "id": "bprYEP8JIv_e",
        "colab_type": "code",
        "colab": {}
      },
      "cell_type": "code",
      "source": [
        "# Declare parameters for later use\n",
        "dict_size = 750\n",
        "data_size = 10000\n",
        "label_size = 3\n",
        "test_data_size = 2000"
      ],
      "execution_count": 0,
      "outputs": []
    },
    {
      "metadata": {
        "id": "J5yW5g0wHKEt",
        "colab_type": "text"
      },
      "cell_type": "markdown",
      "source": [
        "### 3.2. Converting Reviews into 3 Classes and Solving Unbalanced Classes\n",
        "<hr>"
      ]
    },
    {
      "metadata": {
        "id": "NKzItzIE9jpi",
        "colab_type": "text"
      },
      "cell_type": "markdown",
      "source": [
        "To convert 10-class rating labels into **3-class rating labels**, we used average value (mean) and standard deviation (std) as criterias to set rating into new classes.\n",
        "- Data that has rating *more than mean+(std/2)* will be categorized as class 1 (*positive review*).\n",
        "- Data that has rating *between mean-(std/2) to mean+(std/2)* will be categorized as class 0 (*neutral review*).\n",
        "- Data that has rating *less than mean-(std/2) *will be categorized as class -1 (*negative review*).\n",
        "\n",
        "<br>The new rating value will be added to the dataset as a label column."
      ]
    },
    {
      "metadata": {
        "id": "rIXKWhAX9V81",
        "colab_type": "code",
        "outputId": "b81a02ea-b7c3-4d33-e6e9-b808d73d0c27",
        "colab": {
          "base_uri": "https://localhost:8080/",
          "height": 670
        }
      },
      "cell_type": "code",
      "source": [
        "# Create labels based on the original article: Grässer et al. (2018)\n",
        "r = data['rating']\n",
        "labels = -1*(r <= 5.355) + 1*(r >= 8.625)\\\n",
        "# Add the label column to the data\n",
        "data['label'] = labels\n",
        "# Check the new data\n",
        "data.head()"
      ],
      "execution_count": 0,
      "outputs": [
        {
          "output_type": "execute_result",
          "data": {
            "text/html": [
              "<div>\n",
              "<style scoped>\n",
              "    .dataframe tbody tr th:only-of-type {\n",
              "        vertical-align: middle;\n",
              "    }\n",
              "\n",
              "    .dataframe tbody tr th {\n",
              "        vertical-align: top;\n",
              "    }\n",
              "\n",
              "    .dataframe thead th {\n",
              "        text-align: right;\n",
              "    }\n",
              "</style>\n",
              "<table border=\"1\" class=\"dataframe\">\n",
              "  <thead>\n",
              "    <tr style=\"text-align: right;\">\n",
              "      <th></th>\n",
              "      <th>uniqueID</th>\n",
              "      <th>drugName</th>\n",
              "      <th>condition</th>\n",
              "      <th>review</th>\n",
              "      <th>rating</th>\n",
              "      <th>date</th>\n",
              "      <th>usefulCount</th>\n",
              "      <th>label</th>\n",
              "    </tr>\n",
              "  </thead>\n",
              "  <tbody>\n",
              "    <tr>\n",
              "      <th>0</th>\n",
              "      <td>206461</td>\n",
              "      <td>Valsartan</td>\n",
              "      <td>Left Ventricular Dysfunction</td>\n",
              "      <td>\"It has no side effect, I take it in combinati...</td>\n",
              "      <td>9</td>\n",
              "      <td>20-May-12</td>\n",
              "      <td>27</td>\n",
              "      <td>1</td>\n",
              "    </tr>\n",
              "    <tr>\n",
              "      <th>1</th>\n",
              "      <td>95260</td>\n",
              "      <td>Guanfacine</td>\n",
              "      <td>ADHD</td>\n",
              "      <td>\"My son is halfway through his fourth week of ...</td>\n",
              "      <td>8</td>\n",
              "      <td>27-Apr-10</td>\n",
              "      <td>192</td>\n",
              "      <td>0</td>\n",
              "    </tr>\n",
              "    <tr>\n",
              "      <th>2</th>\n",
              "      <td>92703</td>\n",
              "      <td>Lybrel</td>\n",
              "      <td>Birth Control</td>\n",
              "      <td>\"I used to take another oral contraceptive, wh...</td>\n",
              "      <td>5</td>\n",
              "      <td>14-Dec-09</td>\n",
              "      <td>17</td>\n",
              "      <td>-1</td>\n",
              "    </tr>\n",
              "    <tr>\n",
              "      <th>3</th>\n",
              "      <td>138000</td>\n",
              "      <td>Ortho Evra</td>\n",
              "      <td>Birth Control</td>\n",
              "      <td>\"This is my first time using any form of birth...</td>\n",
              "      <td>8</td>\n",
              "      <td>3-Nov-15</td>\n",
              "      <td>10</td>\n",
              "      <td>0</td>\n",
              "    </tr>\n",
              "    <tr>\n",
              "      <th>4</th>\n",
              "      <td>35696</td>\n",
              "      <td>Buprenorphine / naloxone</td>\n",
              "      <td>Opiate Dependence</td>\n",
              "      <td>\"Suboxone has completely turned my life around...</td>\n",
              "      <td>9</td>\n",
              "      <td>27-Nov-16</td>\n",
              "      <td>37</td>\n",
              "      <td>1</td>\n",
              "    </tr>\n",
              "  </tbody>\n",
              "</table>\n",
              "</div>"
            ],
            "text/plain": [
              "   uniqueID                  drugName                     condition  \\\n",
              "0    206461                 Valsartan  Left Ventricular Dysfunction   \n",
              "1     95260                Guanfacine                          ADHD   \n",
              "2     92703                    Lybrel                 Birth Control   \n",
              "3    138000                Ortho Evra                 Birth Control   \n",
              "4     35696  Buprenorphine / naloxone             Opiate Dependence   \n",
              "\n",
              "                                              review  rating       date  \\\n",
              "0  \"It has no side effect, I take it in combinati...       9  20-May-12   \n",
              "1  \"My son is halfway through his fourth week of ...       8  27-Apr-10   \n",
              "2  \"I used to take another oral contraceptive, wh...       5  14-Dec-09   \n",
              "3  \"This is my first time using any form of birth...       8   3-Nov-15   \n",
              "4  \"Suboxone has completely turned my life around...       9  27-Nov-16   \n",
              "\n",
              "   usefulCount  label  \n",
              "0           27      1  \n",
              "1          192      0  \n",
              "2           17     -1  \n",
              "3           10      0  \n",
              "4           37      1  "
            ]
          },
          "metadata": {
            "tags": []
          },
          "execution_count": 5
        }
      ]
    },
    {
      "metadata": {
        "id": "QamlEa6bHjmF",
        "colab_type": "code",
        "outputId": "7f9f402d-3b9f-4ffe-b63c-33aacdd2e32c",
        "colab": {
          "base_uri": "https://localhost:8080/",
          "height": 85
        }
      },
      "cell_type": "code",
      "source": [
        "# Count each label records\n",
        "data['label'].value_counts()"
      ],
      "execution_count": 0,
      "outputs": [
        {
          "output_type": "execute_result",
          "data": {
            "text/plain": [
              " 1    78520\n",
              "-1    48088\n",
              " 0    34689\n",
              "Name: label, dtype: int64"
            ]
          },
          "metadata": {
            "tags": []
          },
          "execution_count": 6
        }
      ]
    },
    {
      "metadata": {
        "id": "jFVbFhpRHqnq",
        "colab_type": "text"
      },
      "cell_type": "markdown",
      "source": [
        "You can see that we have **unbalanced classes problem**. Since unbalanced data can lead to biases in generating model for classification, we need to find a solution for this problem. To solve this, we introduced **class weight** to training data and used it for training model.\n",
        "\n",
        "<br>Class weight in our algorithm uses sklearn compute_class_weight library to auto-calculate and generate appropiate weight for each class. The weight will be multiplied to the label later in the training process to make sure that data used to train the model will be balanced and unbiased. \n",
        "\n",
        "<br>Here are the code.\n",
        "\n"
      ]
    },
    {
      "metadata": {
        "id": "iwH4H5Y2FY4H",
        "colab_type": "code",
        "outputId": "bb39f009-4e96-4d76-f2fc-87f39f0e672c",
        "colab": {
          "base_uri": "https://localhost:8080/",
          "height": 34
        }
      },
      "cell_type": "code",
      "source": [
        "class_weights = class_weight.compute_class_weight('balanced', np.unique(data['label']), data['label'])\n",
        "class_weights"
      ],
      "execution_count": 0,
      "outputs": [
        {
          "output_type": "execute_result",
          "data": {
            "text/plain": [
              "array([1.11806826, 1.54993418, 0.6847385 ])"
            ]
          },
          "metadata": {
            "tags": []
          },
          "execution_count": 7
        }
      ]
    },
    {
      "metadata": {
        "id": "OK4qVpp6OdrW",
        "colab_type": "text"
      },
      "cell_type": "markdown",
      "source": [
        "### 3.3. Stemming Words\n",
        "<hr>\n",
        "<br>In linguistic morphology and information retrieval, stemming is the process of reducing inflected (or sometimes derived) words to their word stem, base, or root form—generally a written word form.\n",
        "\n",
        "<br>This is to make sure that some words that have similar meaning and should be treated as the same importance will be processed properly. \n",
        "\n",
        "<br>For example, 'is', 'am', and 'are' will be replace by word 'be' and will be counted as the same index and have the same value as input data.\n",
        "\n",
        "<br>Here are our code to stemming words."
      ]
    },
    {
      "metadata": {
        "id": "2Q3Tj3gBOppj",
        "colab_type": "code",
        "colab": {}
      },
      "cell_type": "code",
      "source": [
        "# Declare preprocessing function\n",
        "def preprocess_function(text):\n",
        "  \n",
        "  # Remove Unnescessary Characters\n",
        "  text = re.sub(\"['0123456789']\", '', text)\n",
        "  text = re.sub(r\"[^A-Za-z0-9^,!.\\/'+-=]\", \" \", text)\n",
        "  text = re.sub(r\"what's\", \"what is \", text)\n",
        "  text = re.sub(r\"\\'s\", \" \", text)\n",
        "  text = re.sub(r\"\\'ve\", \" have \", text)\n",
        "  text = re.sub(r\"n't\", \" not \", text)\n",
        "  text = re.sub(r\"i'm\", \"i am \", text)\n",
        "  text = re.sub(r\"\\'re\", \" are \", text)\n",
        "  text = re.sub(r\"\\'d\", \" would \", text)\n",
        "  text = re.sub(r\"\\'ll\", \" will \", text)\n",
        "  text = re.sub(r\",\", \" \", text)\n",
        "  text = re.sub(r\"\\.\", \" \", text)\n",
        "  text = re.sub(r\"!\", \" \", text)\n",
        "  text = re.sub(r\"\\/\", \" \", text)\n",
        "  text = re.sub(r\"\\^\", \" \", text)\n",
        "  text = re.sub(r\"\\+\", \" \", text)\n",
        "  text = re.sub(r\"\\-\", \" \", text)\n",
        "  text = re.sub(r\"\\;\", \" \", text)\n",
        "  text = re.sub(r\"\\:\", \" \", text)\n",
        "  text = re.sub(r\";\", \" \", text)\n",
        "  text = re.sub(r\":\", \" \", text)\n",
        "  text = re.sub(r\"\\=\", \" \", text)\n",
        "  text = re.sub(r\"'\", \" \", text)\n",
        "  text = re.sub(r\"(\\d+)(k)\", r\"\\g<1>000\", text)\n",
        "  text = re.sub(r\":\", \" : \", text)\n",
        "  text = re.sub(r\" e g \", \" eg \", text)\n",
        "  text = re.sub(r\" b g \", \" bg \", text)\n",
        "  text = re.sub(r\" u s \", \" american \", text)\n",
        "  text = re.sub(r\"\\0s\", \"0\", text)\n",
        "  text = re.sub(r\" 9 11 \", \"911\", text)\n",
        "  text = re.sub(r\"e - mail\", \"email\", text)\n",
        "  text = re.sub(r\"j k\", \"jk\", text)\n",
        "  text = re.sub(r\"\\s{2,}\", \" \", text)\n",
        "  s = text.lower()\n",
        "\n",
        "  # Word Stemming\n",
        "  wordcut = s.split(\" \")\n",
        "  for i in range(len(wordcut)):\n",
        "    wordcut[i] = ps.stem(wordcut[i])\n",
        "  sentence = \"\"\n",
        "  for i in range(len(wordcut)):\n",
        "    sentence = sentence+wordcut[i]+\" \"\n",
        "    \n",
        "  \n",
        "  return sentence[:-1]"
      ],
      "execution_count": 0,
      "outputs": []
    },
    {
      "metadata": {
        "id": "F5DqLUI_OxhR",
        "colab_type": "code",
        "outputId": "7c69a8f7-4eb3-46d7-c598-eec21979c788",
        "colab": {
          "base_uri": "https://localhost:8080/",
          "height": 204
        }
      },
      "cell_type": "code",
      "source": [
        "# Appiled preprocessing function to review texts\n",
        "data['originalReview']=data['review']\n",
        "data['review']=data['review'].apply(preprocess_function)\n",
        "# Check data\n",
        "data['review'].head(10)"
      ],
      "execution_count": 0,
      "outputs": [
        {
          "output_type": "execute_result",
          "data": {
            "text/plain": [
              "0     it ha no side effect i take it in combin of b...\n",
              "1     my son is halfway through hi fourth week of i...\n",
              "2     i use to take anoth oral contracept which had...\n",
              "3     thi is my first time use ani form of birth co...\n",
              "4     suboxon ha complet turn my life around i feel...\n",
              "5     nd day on mg start to work with rock hard ere...\n",
              "6     he pull out but he cum a bit in me i took the...\n",
              "7     abilifi chang my life there is hope i wa on z...\n",
              "8     i ve had noth but problem with the keppera co...\n",
              "9     i had been on the pill for mani year when my ...\n",
              "Name: review, dtype: object"
            ]
          },
          "metadata": {
            "tags": []
          },
          "execution_count": 9
        }
      ]
    },
    {
      "metadata": {
        "id": "200guW5xPTWH",
        "colab_type": "text"
      },
      "cell_type": "markdown",
      "source": [
        "### 3.4. Removing Stop Words\n",
        "<hr>\n",
        "<br>A stop word is a commonly used word (such as “the”, “a”, “an”, “in”) that a search engine has been programmed to ignore, both when indexing entries for searching and when retrieving them as the result of a search query. It's considered to be less important word (not help in term of classification) and not necessary to be process or include in the indexing list.\n",
        "\n",
        "<br>We would not want these words taking up space in our database, or taking up valuable processing time.\n",
        "\n",
        "<br>The list of stop word used in this experiment came from 3 sources.\n",
        "- NLTK's list of english stopwords ([link](https://gist.github.com/sebleier/554280))\n",
        "- Yoast team ([link](https://github.com/Yoast/YoastSEO.js/blob/develop/src/config/stopwords.js))\n",
        "- Rank NL ([link](https://www.ranks.nl/stopwords))\n",
        "\n",
        "<br>Since we already stemmed word in the review text, we decided to stem stop word list too to have larger stop word list that can be match the stemmed review text.\n",
        "\n",
        "<br>Here are our entire code what we've done."
      ]
    },
    {
      "metadata": {
        "id": "O6i8LJNMPXML",
        "colab_type": "code",
        "colab": {}
      },
      "cell_type": "code",
      "source": [
        "# Declare stopwords list\n",
        "stop_word = [\"a\",\"about\",\"above\",\"after\",\"again\",\"against\",\"ain\",\"all\",\"am\",\"an\",\"and\",\"any\",\"are\",\"aren\",\"aren't\",\"as\",\"at\",\"be\",\"because\",\"been\",\"before\",\"being\",\"below\",\"between\",\"both\",\"but\",\"by\",\"can\",\"couldn\",\"couldn't\",\"d\",\"did\",\"didn\",\"didn't\",\"do\",\"does\",\"doesn\",\"doesn't\",\"doing\",\"don\",\"don't\",\"down\",\"during\",\"each\",\"few\",\"for\",\"from\",\"further\",\"had\",\"hadn\",\"hadn't\",\"has\",\"hasn\",\"hasn't\",\"have\",\"haven\",\"haven't\",\"having\",\"he\",\"her\",\"here\",\"hers\",\"herself\",\"him\",\"himself\",\"his\",\"how\",\"i\",\"if\",\"in\",\"into\",\"is\",\"isn\",\"isn't\",\"it\",\"it's\",\"its\",\"itself\",\"just\",\"ll\",\"m\",\"ma\",\"me\",\"mightn\",\"mightn't\",\"more\",\"most\",\"mustn\",\"mustn't\",\"my\",\"myself\",\"needn\",\"needn't\",\"no\",\"nor\",\"not\",\"now\",\"o\",\"of\",\"off\",\"on\",\"once\",\"only\",\"or\",\"other\",\"our\",\"ours\",\"ourselves\",\"out\",\"over\",\"own\",\"re\",\"s\",\"same\",\"shan\",\"shan't\",\"she\",\"she's\",\"should\",\"should've\",\"shouldn\",\"shouldn't\",\"so\",\"some\",\"such\",\"t\",\"than\",\"that\",\"that'll\",\"the\",\"their\",\"theirs\",\"them\",\"themselves\",\"then\",\"there\",\"these\",\"they\",\"this\",\"those\",\"through\",\"to\",\"too\",\"under\",\"until\",\"up\",\"ve\",\"very\",\"was\",\"wasn\",\"wasn't\",\"we\",\"were\",\"weren\",\"weren't\",\"what\",\"when\",\"where\",\"which\",\"while\",\"who\",\"whom\",\"why\",\"will\",\"with\",\"won\",\"won't\",\"wouldn\",\"wouldn't\",\"y\",\"you\",\"you'd\",\"you'll\",\"you're\",\"you've\",\"your\",\"yours\",\"yourself\",\"yourselves\",\"could\",\"he'd\",\"he'll\",\"he's\",\"here's\",\"how's\",\"i'd\",\"i'll\",\"i'm\",\"i've\",\"let's\",\"ought\",\"she'd\",\"she'll\",\"that's\",\"there's\",\"they'd\",\"they'll\",\"they're\",\"they've\",\"we'd\",\"we'll\",\"we're\",\"we've\",\"what's\",\"when's\",\"where's\",\"who's\",\"why's\",\"would\",\"able\",\"abst\",\"accordance\",\"according\",\"accordingly\",\"across\",\"act\",\"actually\",\"added\",\"adj\",\"affected\",\"affecting\",\"affects\",\"afterwards\",\"ah\",\"almost\",\"alone\",\"along\",\"already\",\"also\",\"although\",\"always\",\"among\",\"amongst\",\"announce\",\"another\",\"anybody\",\"anyhow\",\"anymore\",\"anyone\",\"anything\",\"anyway\",\"anyways\",\"anywhere\",\"apparently\",\"approximately\",\"arent\",\"arise\",\"around\",\"aside\",\"ask\",\"asking\",\"auth\",\"available\",\"away\",\"awfully\",\"b\",\"back\",\"became\",\"become\",\"becomes\",\"becoming\",\"beforehand\",\"begin\",\"beginning\",\"beginnings\",\"begins\",\"behind\",\"believe\",\"beside\",\"besides\",\"beyond\",\"biol\",\"brief\",\"briefly\",\"c\",\"ca\",\"came\",\"cannot\",\"can't\",\"cause\",\"causes\",\"certain\",\"certainly\",\"co\",\"com\",\"come\",\"comes\",\"contain\",\"containing\",\"contains\",\"couldnt\",\"date\",\"different\",\"done\",\"downwards\",\"due\",\"e\",\"ed\",\"edu\",\"effect\",\"eg\",\"eight\",\"eighty\",\"either\",\"else\",\"elsewhere\",\"end\",\"ending\",\"enough\",\"especially\",\"et\",\"etc\",\"even\",\"ever\",\"every\",\"everybody\",\"everyone\",\"everything\",\"everywhere\",\"ex\",\"except\",\"f\",\"far\",\"ff\",\"fifth\",\"first\",\"five\",\"fix\",\"followed\",\"following\",\"follows\",\"former\",\"formerly\",\"forth\",\"found\",\"four\",\"furthermore\",\"g\",\"gave\",\"get\",\"gets\",\"getting\",\"give\",\"given\",\"gives\",\"giving\",\"go\",\"goes\",\"gone\",\"got\",\"gotten\",\"h\",\"happens\",\"hardly\",\"hed\",\"hence\",\"hereafter\",\"hereby\",\"herein\",\"heres\",\"hereupon\",\"hes\",\"hi\",\"hid\",\"hither\",\"home\",\"howbeit\",\"however\",\"hundred\",\"id\",\"ie\",\"im\",\"immediate\",\"immediately\",\"importance\",\"important\",\"inc\",\"indeed\",\"index\",\"information\",\"instead\",\"invention\",\"inward\",\"itd\",\"it'll\",\"j\",\"k\",\"keep\",\"keeps\",\"kept\",\"kg\",\"km\",\"know\",\"known\",\"knows\",\"l\",\"largely\",\"last\",\"lately\",\"later\",\"latter\",\"latterly\",\"least\",\"less\",\"lest\",\"let\",\"lets\",\"like\",\"liked\",\"likely\",\"line\",\"little\",\"'ll\",\"look\",\"looking\",\"looks\",\"ltd\",\"made\",\"mainly\",\"make\",\"makes\",\"many\",\"may\",\"maybe\",\"mean\",\"means\",\"meantime\",\"meanwhile\",\"merely\",\"mg\",\"might\",\"million\",\"miss\",\"ml\",\"moreover\",\"mostly\",\"mr\",\"mrs\",\"much\",\"mug\",\"must\",\"n\",\"na\",\"name\",\"namely\",\"nay\",\"nd\",\"near\",\"nearly\",\"necessarily\",\"necessary\",\"need\",\"needs\",\"neither\",\"never\",\"nevertheless\",\"new\",\"next\",\"nine\",\"ninety\",\"nobody\",\"non\",\"none\",\"nonetheless\",\"noone\",\"normally\",\"nos\",\"noted\",\"nothing\",\"nowhere\",\"obtain\",\"obtained\",\"obviously\",\"often\",\"oh\",\"ok\",\"okay\",\"old\",\"omitted\",\"one\",\"ones\",\"onto\",\"ord\",\"others\",\"otherwise\",\"outside\",\"overall\",\"owing\",\"p\",\"page\",\"pages\",\"part\",\"particular\",\"particularly\",\"past\",\"per\",\"perhaps\",\"placed\",\"please\",\"plus\",\"poorly\",\"possible\",\"possibly\",\"potentially\",\"pp\",\"predominantly\",\"present\",\"previously\",\"primarily\",\"probably\",\"promptly\",\"proud\",\"provides\",\"put\",\"q\",\"que\",\"quickly\",\"quite\",\"qv\",\"r\",\"ran\",\"rather\",\"rd\",\"readily\",\"really\",\"recent\",\"recently\",\"ref\",\"refs\",\"regarding\",\"regardless\",\"regards\",\"related\",\"relatively\",\"research\",\"respectively\",\"resulted\",\"resulting\",\"results\",\"right\",\"run\",\"said\",\"saw\",\"say\",\"saying\",\"says\",\"sec\",\"section\",\"see\",\"seeing\",\"seem\",\"seemed\",\"seeming\",\"seems\",\"seen\",\"self\",\"selves\",\"sent\",\"seven\",\"several\",\"shall\",\"shed\",\"shes\",\"show\",\"showed\",\"shown\",\"showns\",\"shows\",\"significant\",\"significantly\",\"similar\",\"similarly\",\"since\",\"six\",\"slightly\",\"somebody\",\"somehow\",\"someone\",\"somethan\",\"something\",\"sometime\",\"sometimes\",\"somewhat\",\"somewhere\",\"soon\",\"sorry\",\"specifically\",\"specified\",\"specify\",\"specifying\",\"still\",\"stop\",\"strongly\",\"sub\",\"substantially\",\"successfully\",\"sufficiently\",\"suggest\",\"sup\",\"sure\",\"take\",\"taken\",\"taking\",\"tell\",\"tends\",\"th\",\"thank\",\"thanks\",\"thanx\",\"thats\",\"that've\",\"thence\",\"thereafter\",\"thereby\",\"thered\",\"therefore\",\"therein\",\"there'll\",\"thereof\",\"therere\",\"theres\",\"thereto\",\"thereupon\",\"there've\",\"theyd\",\"theyre\",\"think\",\"thou\",\"though\",\"thoughh\",\"thousand\",\"throug\",\"throughout\",\"thru\",\"thus\",\"til\",\"tip\",\"together\",\"took\",\"toward\",\"towards\",\"tried\",\"tries\",\"truly\",\"try\",\"trying\",\"ts\",\"twice\",\"two\",\"u\",\"un\",\"unfortunately\",\"unless\",\"unlike\",\"unlikely\",\"unto\",\"upon\",\"ups\",\"us\",\"use\",\"used\",\"useful\",\"usefully\",\"usefulness\",\"uses\",\"using\",\"usually\",\"v\",\"value\",\"various\",\"'ve\",\"via\",\"viz\",\"vol\",\"vols\",\"vs\",\"w\",\"want\",\"wants\",\"wasnt\",\"way\",\"wed\",\"welcome\",\"went\",\"werent\",\"whatever\",\"what'll\",\"whats\",\"whence\",\"whenever\",\"whereafter\",\"whereas\",\"whereby\",\"wherein\",\"wheres\",\"whereupon\",\"wherever\",\"whether\",\"whim\",\"whither\",\"whod\",\"whoever\",\"whole\",\"who'll\",\"whomever\",\"whos\",\"whose\",\"widely\",\"willing\",\"wish\",\"within\",\"without\",\"wont\",\"words\",\"world\",\"wouldnt\",\"www\",\"x\",\"yes\",\"yet\",\"youd\",\"youre\",\"z\",\"zero\",\"a's\",\"ain't\",\"allow\",\"allows\",\"apart\",\"appear\",\"appreciate\",\"appropriate\",\"associated\",\"best\",\"better\",\"c'mon\",\"c's\",\"cant\",\"changes\",\"clearly\",\"concerning\",\"consequently\",\"consider\",\"considering\",\"corresponding\",\"course\",\"currently\",\"definitely\",\"described\",\"despite\",\"entirely\",\"exactly\",\"example\",\"going\",\"greetings\",\"hello\",\"help\",\"hopefully\",\"ignored\",\"inasmuch\",\"indicate\",\"indicated\",\"indicates\",\"inner\",\"insofar\",\"it'd\",\"keep\",\"keeps\",\"novel\",\"presumably\",\"reasonably\",\"second\",\"secondly\",\"sensible\",\"serious\",\"seriously\",\"sure\",\"t's\",\"third\",\"thorough\",\"thoroughly\",\"three\",\"well\",\"wonder\",\"a\", \"about\", \"above\", \"above\", \"across\", \"after\", \"afterwards\", \"again\", \"against\", \"all\", \"almost\", \"alone\", \"along\", \"already\", \"also\",\"although\",\"always\",\"am\",\"among\", \"amongst\", \"amoungst\", \"amount\", \"an\", \"and\", \"another\", \"any\",\"anyhow\",\"anyone\",\"anything\",\"anyway\", \"anywhere\", \"are\", \"around\", \"as\", \"at\", \"back\",\"be\",\"became\", \"because\",\"become\",\"becomes\", \"becoming\", \"been\", \"before\", \"beforehand\", \"behind\", \"being\", \"below\", \"beside\", \"besides\", \"between\", \"beyond\", \"bill\", \"both\", \"bottom\",\"but\", \"by\", \"call\", \"can\", \"cannot\", \"cant\", \"co\", \"con\", \"could\", \"couldnt\", \"cry\", \"de\", \"describe\", \"detail\", \"do\", \"done\", \"down\", \"due\", \"during\", \"each\", \"eg\", \"eight\", \"either\", \"eleven\",\"else\", \"elsewhere\", \"empty\", \"enough\", \"etc\", \"even\", \"ever\", \"every\", \"everyone\", \"everything\", \"everywhere\", \"except\", \"few\", \"fifteen\", \"fify\", \"fill\", \"find\", \"fire\", \"first\", \"five\", \"for\", \"former\", \"formerly\", \"forty\", \"found\", \"four\", \"from\", \"front\", \"full\", \"further\", \"get\", \"give\", \"go\", \"had\", \"has\", \"hasnt\", \"have\", \"he\", \"hence\", \"her\", \"here\", \"hereafter\", \"hereby\", \"herein\", \"hereupon\", \"hers\", \"herself\", \"him\", \"himself\", \"his\", \"how\", \"however\", \"hundred\", \"ie\", \"if\", \"in\", \"inc\", \"indeed\", \"interest\", \"into\", \"is\", \"it\", \"its\", \"itself\", \"keep\", \"last\", \"latter\", \"latterly\", \"least\", \"less\", \"ltd\", \"made\", \"many\", \"may\", \"me\", \"meanwhile\", \"might\", \"mill\", \"mine\", \"more\", \"moreover\", \"most\", \"mostly\", \"move\", \"much\", \"must\", \"my\", \"myself\", \"name\", \"namely\", \"neither\", \"never\", \"nevertheless\", \"next\", \"nine\", \"no\", \"nobody\", \"none\", \"noone\", \"nor\", \"not\", \"nothing\", \"now\", \"nowhere\", \"of\", \"off\", \"often\", \"on\", \"once\", \"one\", \"only\", \"onto\", \"or\", \"other\", \"others\", \"otherwise\", \"our\", \"ours\", \"ourselves\", \"out\", \"over\", \"own\",\"part\", \"per\", \"perhaps\", \"please\", \"put\", \"rather\", \"re\", \"same\", \"see\", \"seem\", \"seemed\", \"seeming\", \"seems\", \"serious\", \"several\", \"she\", \"should\", \"show\", \"side\", \"since\", \"sincere\", \"six\", \"sixty\", \"so\", \"some\", \"somehow\", \"someone\", \"something\", \"sometime\", \"sometimes\", \"somewhere\", \"still\", \"such\", \"system\", \"take\", \"ten\", \"than\", \"that\", \"the\", \"their\", \"them\", \"themselves\", \"then\", \"thence\", \"there\", \"thereafter\", \"thereby\", \"therefore\", \"therein\", \"thereupon\", \"these\", \"they\", \"thickv\", \"thin\", \"third\", \"this\", \"those\", \"though\", \"three\", \"through\", \"throughout\", \"thru\", \"thus\", \"to\", \"together\", \"too\", \"top\", \"toward\", \"towards\", \"twelve\", \"twenty\", \"two\", \"un\", \"under\", \"until\", \"up\", \"upon\", \"us\", \"very\", \"via\", \"was\", \"we\", \"well\", \"were\", \"what\", \"whatever\", \"when\", \"whence\", \"whenever\", \"where\", \"whereafter\", \"whereas\", \"whereby\", \"wherein\", \"whereupon\", \"wherever\", \"whether\", \"which\", \"while\", \"whither\", \"who\", \"whoever\", \"whole\", \"whom\", \"whose\", \"why\", \"will\", \"with\", \"within\", \"without\", \"would\", \"yet\", \"you\", \"your\", \"yours\", \"yourself\", \"yourselves\", \"the\",\"a\", \"b\", \"c\", \"d\", \"e\", \"f\", \"g\", \"h\", \"i\", \"j\", \"k\", \"l\", \"m\", \"n\", \"o\", \"p\",\n",
        "\"q\", \"r\", \"s\", \"t\", \"u\", \"v\", \"w\", \"x\", \"y\", \"z\",\"A\", \"B\", \"C\", \"D\", \"E\", \"F\", \"G\", \"H\", \"I\", \"J\", \"K\", \"L\", \"M\", \"N\", \"O\", \"P\", \"Q\", \"R\", \"S\", \"T\", \"U\", \"V\", \"W\", \"X\", \"Y\", \"Z\",'co','op','research-articl', 'pagecount','cit','ibid','les','le','au','que','est','pas','vol','el','los','pp','u201d','well-b', 'http', 'volumtype', 'par', '0o', '0s', '3a', '3b', '3d', '6b', '6o', 'a1', 'a2', 'a3', 'a4', 'ab', 'ac', 'ad', 'ae', 'af', 'ag', 'aj', 'al', 'an', 'ao', 'ap', 'ar', 'av', 'aw', 'ax', 'ay', 'az', 'b1', 'b2', 'b3', 'ba', 'bc', 'bd', 'be', 'bi', 'bj', 'bk', 'bl', 'bn', 'bp', 'br', 'bs', 'bt', 'bu', 'bx', 'c1', 'c2', 'c3', 'cc', 'cd', 'ce', 'cf', 'cg', 'ch', 'ci', 'cj', 'cl', 'cm', 'cn', 'cp', 'cq', 'cr', 'cs', 'ct', 'cu', 'cv', 'cx', 'cy', 'cz', 'd2', 'da', 'dc', 'dd', 'de', 'df', 'di', 'dj', 'dk', 'dl', 'do', 'dp', 'dr', 'ds', 'dt', 'du', 'dx', 'dy', 'e2', 'e3', 'ea', 'ec', 'ed', 'ee', 'ef', 'ei', 'ej', 'el', 'em', 'en', 'eo', 'ep', 'eq', 'er', 'es', 'et', 'eu', 'ev', 'ex', 'ey', 'f2', 'fa', 'fc', 'ff', 'fi', 'fj', 'fl', 'fn', 'fo', 'fr', 'fs', 'ft', 'fu', 'fy', 'ga', 'ge', 'gi', 'gj', 'gl', 'go', 'gr', 'gs', 'gy', 'h2', 'h3', 'hh', 'hi', 'hj', 'ho', 'hr', 'hs', 'hu', 'hy', 'i', 'i2', 'i3', 'i4', 'i6', 'i7', 'i8', 'ia', 'ib', 'ic', 'ie', 'ig', 'ih', 'ii', 'ij', 'il', 'in', 'io', 'ip', 'iq', 'ir', 'iv', 'ix', 'iy', 'iz', 'jj', 'jr', 'js', 'jt', 'ju', 'ke', 'kg', 'kj', 'km', 'ko', 'l2', 'la', 'lb', 'lc', 'lf', 'lj', 'ln', 'lo', 'lr', 'ls', 'lt', 'm2', 'ml', 'mn', 'mo', 'ms', 'mt', 'mu', 'n2', 'nc', 'nd', 'ne', 'ng', 'ni', 'nj', 'nl', 'nn', 'nr', 'ns', 'nt', 'ny', 'oa', 'ob', 'oc', 'od', 'of', 'og', 'oi', 'oj', 'ol', 'om', 'on', 'oo', 'oq', 'or', 'os', 'ot', 'ou', 'ow', 'ox', 'oz', 'p1', 'p2', 'p3', 'pc', 'pd', 'pe', 'pf', 'ph', 'pi', 'pj', 'pk', 'pl', 'pm', 'pn', 'po', 'pq', 'pr', 'ps', 'pt', 'pu', 'py', 'qj', 'qu', 'r2', 'ra', 'rc', 'rd', 'rf', 'rh', 'ri', 'rj', 'rl', 'rm', 'rn', 'ro', 'rq', 'rr', 'rs', 'rt', 'ru', 'rv', 'ry', 's2', 'sa', 'sc', 'sd', 'se', 'sf', 'si', 'sj', 'sl', 'sm', 'sn', 'sp', 'sq', 'sr', 'ss', 'st', 'sy', 'sz', 't1', 't2', 't3', 'tb', 'tc', 'td', 'te', 'tf', 'th', 'ti', 'tj', 'tl', 'tm', 'tn', 'tp', 'tq', 'tr', 'ts', 'tt', 'tv', 'tx', 'ue', 'ui', 'uj', 'uk', 'um', 'un', 'uo', 'ur', 'ut', 'va', 'wa', 'vd', 'wi', 'vj', 'vo', 'wo', 'vq', 'vt', 'vu', 'x1', 'x2', 'x3', 'xf', 'xi', 'xj', 'xk', 'xl', 'xn', 'xo', 'xs', 'xt', 'xv', 'xx', 'y2', 'yj', 'yl', 'yr', 'ys', 'yt', 'zi', 'zz']"
      ],
      "execution_count": 0,
      "outputs": []
    },
    {
      "metadata": {
        "id": "e-pYfBBlPZYw",
        "colab_type": "code",
        "colab": {}
      },
      "cell_type": "code",
      "source": [
        "# Add stemmed stopword to stopword list\n",
        "list_stop_words_stemmed = []\n",
        "for sw in stop_word:\n",
        "  originalsw = sw\n",
        "  list_stop_words_stemmed.append(originalsw)\n",
        "  preprosw = preprocess_function(sw)\n",
        "  if (originalsw != preprosw[:-1]):\n",
        "    list_stop_words_stemmed.append(preprosw[:-1])\n",
        "new_swords = frozenset(list_stop_words_stemmed)"
      ],
      "execution_count": 0,
      "outputs": []
    },
    {
      "metadata": {
        "id": "qXI4YBZJPdUP",
        "colab_type": "code",
        "colab": {}
      },
      "cell_type": "code",
      "source": [
        "# Declare stopword removing function\n",
        "def remove_sword(text):\n",
        "    text_split = text.split(' ')\n",
        "    return_text = ''\n",
        "    for word in text_split:\n",
        "        if word in new_swords:\n",
        "            return_text = return_text\n",
        "        else:\n",
        "            return_text = return_text + ' '+ word\n",
        "    return return_text"
      ],
      "execution_count": 0,
      "outputs": []
    },
    {
      "metadata": {
        "id": "-zwBmB7vPgGe",
        "colab_type": "code",
        "outputId": "85d40375-02b5-421a-b2f1-7474adb19e40",
        "colab": {
          "base_uri": "https://localhost:8080/",
          "height": 204
        }
      },
      "cell_type": "code",
      "source": [
        "# Appiled stopword removing function to review texts\n",
        "data['review']=data['review'].apply(remove_sword)\n",
        "# Check data\n",
        "data['review'].head(10)"
      ],
      "execution_count": 0,
      "outputs": [
        {
          "output_type": "execute_result",
          "data": {
            "text/plain": [
              "0                               combin bystol fish oil\n",
              "1     son halfway fourth week intuniv becam concern...\n",
              "2     anoth oral contracept pill cycl veri happi ve...\n",
              "3     time ani form birth control glad patch month ...\n",
              "4     suboxon complet turn life feel healthier exce...\n",
              "5     day start work rock hard erect howev experian...\n",
              "6     pull cum bit plan hour pregnanc test week pre...\n",
              "7     abilifi chang life hope zoloft clonidin start...\n",
              "8     noth problem keppera constant shake arm amp l...\n",
              "9     pill mani year doctor chang rx chateal realli...\n",
              "Name: review, dtype: object"
            ]
          },
          "metadata": {
            "tags": []
          },
          "execution_count": 13
        }
      ]
    },
    {
      "metadata": {
        "id": "ZPgV9wU6IceD",
        "colab_type": "text"
      },
      "cell_type": "markdown",
      "source": [
        "### 3.5. Converting Reviews to Padded Sequences\n",
        "<hr>\n",
        "\n",
        "<br>Since our model cannot process word directly, we need to convert the review text into appropiated format.\n",
        "\n",
        "<br>Deep learning libraries assume a vectorized representation of the data. So first, we will tokenize the text into indexed-list with tokenizer and fit_on_text libraries. This will generate the index-list document to represent review text in form of vectors instead of string. This vectorization allows code to efficiently perform the matrix operations in batch for chosen deep learning algorithms.\n",
        "\n",
        "<br>However, in the case of variable length sequence prediction problems, it requires that data need to be transformed such that each sequence has the same length. We solve this problem with the pad_sequence libraries that will generate zero for document that has length less than the others.\n",
        "\n",
        "<br>Here are the algorithm."
      ]
    },
    {
      "metadata": {
        "id": "O0mCZHAVG1Gp",
        "colab_type": "code",
        "colab": {}
      },
      "cell_type": "code",
      "source": [
        "# Read a part of the reviews and create training sequences (x_train)\n",
        "\n",
        "#for non-preprocessed data\n",
        "samples_nonpre = data['originalReview'].iloc[:data_size]\n",
        "tokenizer_nonpre = Tokenizer(num_words = dict_size)\n",
        "tokenizer_nonpre.fit_on_texts(samples_nonpre)\n",
        "sequences_nonpre = tokenizer_nonpre.texts_to_sequences(samples_nonpre)\n",
        "x_train_nonpre = pad_sequences(sequences_nonpre, maxlen = 500)\n",
        "\n",
        "# for preprocessed data\n",
        "samples = data['review'].iloc[:data_size]\n",
        "tokenizer = Tokenizer(num_words = dict_size)\n",
        "tokenizer.fit_on_texts(samples)\n",
        "sequences = tokenizer.texts_to_sequences(samples)\n",
        "x_train = pad_sequences(sequences, maxlen = 500)"
      ],
      "execution_count": 0,
      "outputs": []
    },
    {
      "metadata": {
        "id": "aXU_6Ol-F93F",
        "colab_type": "code",
        "outputId": "d5aff636-4975-45a2-e5f1-d4f0da74d925",
        "colab": {
          "base_uri": "https://localhost:8080/",
          "height": 119
        }
      },
      "cell_type": "code",
      "source": [
        "#cheack result\n",
        "samples.head()"
      ],
      "execution_count": 0,
      "outputs": [
        {
          "output_type": "execute_result",
          "data": {
            "text/plain": [
              "0                               combin bystol fish oil\n",
              "1     son halfway fourth week intuniv becam concern...\n",
              "2     anoth oral contracept pill cycl veri happi ve...\n",
              "3     time ani form birth control glad patch month ...\n",
              "4     suboxon complet turn life feel healthier exce...\n",
              "Name: review, dtype: object"
            ]
          },
          "metadata": {
            "tags": []
          },
          "execution_count": 15
        }
      ]
    },
    {
      "metadata": {
        "id": "s3UA9tP0PkWR",
        "colab_type": "text"
      },
      "cell_type": "markdown",
      "source": [
        "###3.6. Convert labels to one-hot-categories\n",
        "<hr>\n",
        "\n",
        "<br>Same as the training information, its labels need to be in form of vector too. We use one-hot representation in this case to help us transform 3 classes labels into vector of binary values.\n",
        "\n",
        "<br>Here is the code."
      ]
    },
    {
      "metadata": {
        "id": "vkQxLkHtPrLx",
        "colab_type": "code",
        "colab": {}
      },
      "cell_type": "code",
      "source": [
        "# Convert the labels to one_hot_category values\n",
        "one_hot_labels = to_categorical(labels[:data_size], num_classes = label_size)"
      ],
      "execution_count": 0,
      "outputs": []
    },
    {
      "metadata": {
        "id": "zkt62Fs6Ps-c",
        "colab_type": "code",
        "outputId": "a40969b3-4e84-4218-dda8-cae2816fcde6",
        "colab": {
          "base_uri": "https://localhost:8080/",
          "height": 34
        }
      },
      "cell_type": "code",
      "source": [
        "# Check the training and label sets\n",
        "x_train.shape, one_hot_labels.shape"
      ],
      "execution_count": 0,
      "outputs": [
        {
          "output_type": "execute_result",
          "data": {
            "text/plain": [
              "((10000, 500), (10000, 3))"
            ]
          },
          "metadata": {
            "tags": []
          },
          "execution_count": 17
        }
      ]
    },
    {
      "metadata": {
        "id": "sEQ37yTrOIRH",
        "colab_type": "text"
      },
      "cell_type": "markdown",
      "source": [
        "### 3.7. Preparing Testing Data\n",
        "<hr>\n",
        "\n",
        "<br>Next, we import the test dataset and do as the same as training dataset."
      ]
    },
    {
      "metadata": {
        "id": "qtv-d_ztONKp",
        "colab_type": "code",
        "outputId": "f006322e-151a-4d7f-d086-c3928e8c9424",
        "colab": {
          "base_uri": "https://localhost:8080/",
          "height": 545
        }
      },
      "cell_type": "code",
      "source": [
        "# Read the data\n",
        "test_data = pd.read_csv('../content/drugsComTest_raw.csv')\n",
        "# Show the head of the data\n",
        "test_data.head()"
      ],
      "execution_count": 0,
      "outputs": [
        {
          "output_type": "execute_result",
          "data": {
            "text/html": [
              "<div>\n",
              "<style scoped>\n",
              "    .dataframe tbody tr th:only-of-type {\n",
              "        vertical-align: middle;\n",
              "    }\n",
              "\n",
              "    .dataframe tbody tr th {\n",
              "        vertical-align: top;\n",
              "    }\n",
              "\n",
              "    .dataframe thead th {\n",
              "        text-align: right;\n",
              "    }\n",
              "</style>\n",
              "<table border=\"1\" class=\"dataframe\">\n",
              "  <thead>\n",
              "    <tr style=\"text-align: right;\">\n",
              "      <th></th>\n",
              "      <th>uniqueID</th>\n",
              "      <th>drugName</th>\n",
              "      <th>condition</th>\n",
              "      <th>review</th>\n",
              "      <th>rating</th>\n",
              "      <th>date</th>\n",
              "      <th>usefulCount</th>\n",
              "    </tr>\n",
              "  </thead>\n",
              "  <tbody>\n",
              "    <tr>\n",
              "      <th>0</th>\n",
              "      <td>163740</td>\n",
              "      <td>Mirtazapine</td>\n",
              "      <td>Depression</td>\n",
              "      <td>\"I&amp;#039;ve tried a few antidepressants over th...</td>\n",
              "      <td>10</td>\n",
              "      <td>28-Feb-12</td>\n",
              "      <td>22</td>\n",
              "    </tr>\n",
              "    <tr>\n",
              "      <th>1</th>\n",
              "      <td>206473</td>\n",
              "      <td>Mesalamine</td>\n",
              "      <td>Crohn's Disease, Maintenance</td>\n",
              "      <td>\"My son has Crohn&amp;#039;s disease and has done ...</td>\n",
              "      <td>8</td>\n",
              "      <td>17-May-09</td>\n",
              "      <td>17</td>\n",
              "    </tr>\n",
              "    <tr>\n",
              "      <th>2</th>\n",
              "      <td>159672</td>\n",
              "      <td>Bactrim</td>\n",
              "      <td>Urinary Tract Infection</td>\n",
              "      <td>\"Quick reduction of symptoms\"</td>\n",
              "      <td>9</td>\n",
              "      <td>29-Sep-17</td>\n",
              "      <td>3</td>\n",
              "    </tr>\n",
              "    <tr>\n",
              "      <th>3</th>\n",
              "      <td>39293</td>\n",
              "      <td>Contrave</td>\n",
              "      <td>Weight Loss</td>\n",
              "      <td>\"Contrave combines drugs that were used for al...</td>\n",
              "      <td>9</td>\n",
              "      <td>5-Mar-17</td>\n",
              "      <td>35</td>\n",
              "    </tr>\n",
              "    <tr>\n",
              "      <th>4</th>\n",
              "      <td>97768</td>\n",
              "      <td>Cyclafem 1 / 35</td>\n",
              "      <td>Birth Control</td>\n",
              "      <td>\"I have been on this birth control for one cyc...</td>\n",
              "      <td>9</td>\n",
              "      <td>22-Oct-15</td>\n",
              "      <td>4</td>\n",
              "    </tr>\n",
              "  </tbody>\n",
              "</table>\n",
              "</div>"
            ],
            "text/plain": [
              "   uniqueID         drugName                     condition  \\\n",
              "0    163740      Mirtazapine                    Depression   \n",
              "1    206473       Mesalamine  Crohn's Disease, Maintenance   \n",
              "2    159672          Bactrim       Urinary Tract Infection   \n",
              "3     39293         Contrave                   Weight Loss   \n",
              "4     97768  Cyclafem 1 / 35                 Birth Control   \n",
              "\n",
              "                                              review  rating       date  \\\n",
              "0  \"I&#039;ve tried a few antidepressants over th...      10  28-Feb-12   \n",
              "1  \"My son has Crohn&#039;s disease and has done ...       8  17-May-09   \n",
              "2                      \"Quick reduction of symptoms\"       9  29-Sep-17   \n",
              "3  \"Contrave combines drugs that were used for al...       9   5-Mar-17   \n",
              "4  \"I have been on this birth control for one cyc...       9  22-Oct-15   \n",
              "\n",
              "   usefulCount  \n",
              "0           22  \n",
              "1           17  \n",
              "2            3  \n",
              "3           35  \n",
              "4            4  "
            ]
          },
          "metadata": {
            "tags": []
          },
          "execution_count": 18
        }
      ]
    },
    {
      "metadata": {
        "id": "VQ_388etOcY1",
        "colab_type": "code",
        "outputId": "568888ec-42a7-446f-810e-e17faee6118c",
        "colab": {
          "base_uri": "https://localhost:8080/",
          "height": 721
        }
      },
      "cell_type": "code",
      "source": [
        "# Create labels based on the original article: Grässer et al. (2018)\n",
        "r = test_data['rating']\n",
        "labels_test = -1*(r <= 5.355) + 1*(r >= 8.625)\n",
        "\n",
        "# Add the label column to the data\n",
        "test_data['label'] = labels_test\n",
        "\n",
        "# Calculating Class Weight\n",
        "class_weights_test = class_weight.compute_class_weight('balanced', np.unique(test_data['label']), test_data['label'])\n",
        "\n",
        "# Appiled preprocessing function to review texts\n",
        "test_data['originalReview']=test_data['review']\n",
        "test_data['review']=test_data['review'].apply(preprocess_function)\n",
        "\n",
        "# Appiled stopword removing function to review texts\n",
        "test_data['review']=test_data['review'].apply(remove_sword)\n",
        "\n",
        "# Converting reviews to padded sequences\n",
        "test_data = test_data.iloc[:test_data_size]\n",
        "samples_test = test_data['review']\n",
        "tokenizer_test = Tokenizer(num_words = dict_size)\n",
        "tokenizer_test.fit_on_texts(samples_test)\n",
        "sequences_test = tokenizer_test.texts_to_sequences(samples_test)\n",
        "x_test = pad_sequences(sequences_test, maxlen = 500)\n",
        "\n",
        "# Convert the labels to one_hot_category values\n",
        "labels_test = test_data['label']\n",
        "one_hot_labels_test = to_categorical(labels_test[:test_data_size], num_classes = label_size)\n",
        "\n",
        "# Check dataset\n",
        "test_data.head()"
      ],
      "execution_count": 0,
      "outputs": [
        {
          "output_type": "execute_result",
          "data": {
            "text/html": [
              "<div>\n",
              "<style scoped>\n",
              "    .dataframe tbody tr th:only-of-type {\n",
              "        vertical-align: middle;\n",
              "    }\n",
              "\n",
              "    .dataframe tbody tr th {\n",
              "        vertical-align: top;\n",
              "    }\n",
              "\n",
              "    .dataframe thead th {\n",
              "        text-align: right;\n",
              "    }\n",
              "</style>\n",
              "<table border=\"1\" class=\"dataframe\">\n",
              "  <thead>\n",
              "    <tr style=\"text-align: right;\">\n",
              "      <th></th>\n",
              "      <th>uniqueID</th>\n",
              "      <th>drugName</th>\n",
              "      <th>condition</th>\n",
              "      <th>review</th>\n",
              "      <th>rating</th>\n",
              "      <th>date</th>\n",
              "      <th>usefulCount</th>\n",
              "      <th>label</th>\n",
              "      <th>originalReview</th>\n",
              "    </tr>\n",
              "  </thead>\n",
              "  <tbody>\n",
              "    <tr>\n",
              "      <th>0</th>\n",
              "      <td>163740</td>\n",
              "      <td>Mirtazapine</td>\n",
              "      <td>Depression</td>\n",
              "      <td>tri antidepress year citalopram fluoxetin ami...</td>\n",
              "      <td>10</td>\n",
              "      <td>28-Feb-12</td>\n",
              "      <td>22</td>\n",
              "      <td>1</td>\n",
              "      <td>\"I&amp;#039;ve tried a few antidepressants over th...</td>\n",
              "    </tr>\n",
              "    <tr>\n",
              "      <th>1</th>\n",
              "      <td>206473</td>\n",
              "      <td>Mesalamine</td>\n",
              "      <td>Crohn's Disease, Maintenance</td>\n",
              "      <td>son crohn diseas veri asacol complaint mani t...</td>\n",
              "      <td>8</td>\n",
              "      <td>17-May-09</td>\n",
              "      <td>17</td>\n",
              "      <td>0</td>\n",
              "      <td>\"My son has Crohn&amp;#039;s disease and has done ...</td>\n",
              "    </tr>\n",
              "    <tr>\n",
              "      <th>2</th>\n",
              "      <td>159672</td>\n",
              "      <td>Bactrim</td>\n",
              "      <td>Urinary Tract Infection</td>\n",
              "      <td>quick reduct symptom</td>\n",
              "      <td>9</td>\n",
              "      <td>29-Sep-17</td>\n",
              "      <td>3</td>\n",
              "      <td>1</td>\n",
              "      <td>\"Quick reduction of symptoms\"</td>\n",
              "    </tr>\n",
              "    <tr>\n",
              "      <th>3</th>\n",
              "      <td>39293</td>\n",
              "      <td>Contrave</td>\n",
              "      <td>Weight Loss</td>\n",
              "      <td>contrav combin drug alcohol smoke opioid cess...</td>\n",
              "      <td>9</td>\n",
              "      <td>5-Mar-17</td>\n",
              "      <td>35</td>\n",
              "      <td>1</td>\n",
              "      <td>\"Contrave combines drugs that were used for al...</td>\n",
              "    </tr>\n",
              "    <tr>\n",
              "      <th>4</th>\n",
              "      <td>97768</td>\n",
              "      <td>Cyclafem 1 / 35</td>\n",
              "      <td>Birth Control</td>\n",
              "      <td>birth control cycl read review type birth con...</td>\n",
              "      <td>9</td>\n",
              "      <td>22-Oct-15</td>\n",
              "      <td>4</td>\n",
              "      <td>1</td>\n",
              "      <td>\"I have been on this birth control for one cyc...</td>\n",
              "    </tr>\n",
              "  </tbody>\n",
              "</table>\n",
              "</div>"
            ],
            "text/plain": [
              "   uniqueID         drugName                     condition  \\\n",
              "0    163740      Mirtazapine                    Depression   \n",
              "1    206473       Mesalamine  Crohn's Disease, Maintenance   \n",
              "2    159672          Bactrim       Urinary Tract Infection   \n",
              "3     39293         Contrave                   Weight Loss   \n",
              "4     97768  Cyclafem 1 / 35                 Birth Control   \n",
              "\n",
              "                                              review  rating       date  \\\n",
              "0   tri antidepress year citalopram fluoxetin ami...      10  28-Feb-12   \n",
              "1   son crohn diseas veri asacol complaint mani t...       8  17-May-09   \n",
              "2                               quick reduct symptom       9  29-Sep-17   \n",
              "3   contrav combin drug alcohol smoke opioid cess...       9   5-Mar-17   \n",
              "4   birth control cycl read review type birth con...       9  22-Oct-15   \n",
              "\n",
              "   usefulCount  label                                     originalReview  \n",
              "0           22      1  \"I&#039;ve tried a few antidepressants over th...  \n",
              "1           17      0  \"My son has Crohn&#039;s disease and has done ...  \n",
              "2            3      1                      \"Quick reduction of symptoms\"  \n",
              "3           35      1  \"Contrave combines drugs that were used for al...  \n",
              "4            4      1  \"I have been on this birth control for one cyc...  "
            ]
          },
          "metadata": {
            "tags": []
          },
          "execution_count": 19
        }
      ]
    },
    {
      "metadata": {
        "id": "swZxykb-Pcmb",
        "colab_type": "code",
        "outputId": "0a7a9142-efbb-488a-f94c-242ebea70dff",
        "colab": {
          "base_uri": "https://localhost:8080/",
          "height": 136
        }
      },
      "cell_type": "code",
      "source": [
        "# Check training output\n",
        "x_test"
      ],
      "execution_count": 0,
      "outputs": [
        {
          "output_type": "execute_result",
          "data": {
            "text/plain": [
              "array([[  0,   0,   0, ..., 446,  64, 245],\n",
              "       [  0,   0,   0, ..., 108, 187, 252],\n",
              "       [  0,   0,   0, ...,   0, 518,  65],\n",
              "       ...,\n",
              "       [  0,   0,   0, ...,  62,  19, 465],\n",
              "       [  0,   0,   0, ..., 529,  94, 140],\n",
              "       [  0,   0,   0, ..., 439,  58,  23]], dtype=int32)"
            ]
          },
          "metadata": {
            "tags": []
          },
          "execution_count": 20
        }
      ]
    },
    {
      "metadata": {
        "id": "xhkBMqqAPglS",
        "colab_type": "code",
        "outputId": "c5181f0d-a624-4f05-f30e-02aeabe728e4",
        "colab": {
          "base_uri": "https://localhost:8080/",
          "height": 136
        }
      },
      "cell_type": "code",
      "source": [
        "# Check label output\n",
        "one_hot_labels_test"
      ],
      "execution_count": 0,
      "outputs": [
        {
          "output_type": "execute_result",
          "data": {
            "text/plain": [
              "array([[0., 1., 0.],\n",
              "       [1., 0., 0.],\n",
              "       [0., 1., 0.],\n",
              "       ...,\n",
              "       [0., 1., 0.],\n",
              "       [0., 0., 1.],\n",
              "       [0., 1., 0.]], dtype=float32)"
            ]
          },
          "metadata": {
            "tags": []
          },
          "execution_count": 21
        }
      ]
    },
    {
      "metadata": {
        "id": "T6gGDZMLQiU5",
        "colab_type": "code",
        "outputId": "0b99bb5e-99fa-4cf5-8436-c20ccacbf47d",
        "colab": {
          "base_uri": "https://localhost:8080/",
          "height": 34
        }
      },
      "cell_type": "code",
      "source": [
        "len(one_hot_labels_test)"
      ],
      "execution_count": 0,
      "outputs": [
        {
          "output_type": "execute_result",
          "data": {
            "text/plain": [
              "2000"
            ]
          },
          "metadata": {
            "tags": []
          },
          "execution_count": 22
        }
      ]
    },
    {
      "metadata": {
        "id": "U0Dh668fwcX_",
        "colab_type": "text"
      },
      "cell_type": "markdown",
      "source": [
        "### 3.8. Creating Only-selected-drug Data for Models in Part 4.3\n",
        "<hr>\n",
        "<br>In our experiment, we believed that seperating data to train model for each drug individually will result in the better model with higher accuracy and lower loss. \n",
        "\n",
        "<br>For example, we extract the Levenorgestrel drug review records to the new dataset and train model based on only this drug review. We think it will be better than use all dataset with different kind of drugs mixed together to train our model since the review information also based on type of drugs as well.\n",
        "\n",
        "<br>So, we experiment by seperate 2 new datasets that contain only Levenorgestrel drug and Etonogestrel drug review record respectively and train these two model individually."
      ]
    },
    {
      "metadata": {
        "id": "NZbxRa3w3zL7",
        "colab_type": "code",
        "outputId": "3d5941c1-df12-4e70-a635-0635a31a5b69",
        "colab": {
          "base_uri": "https://localhost:8080/",
          "height": 672
        }
      },
      "cell_type": "code",
      "source": [
        "#Check how many drug we have and the number of record based on drug name\n",
        "data.groupby('drugName').nunique().sort_values(by=['uniqueID'],ascending=False).head(10)"
      ],
      "execution_count": 0,
      "outputs": [
        {
          "output_type": "execute_result",
          "data": {
            "text/html": [
              "<div>\n",
              "<style scoped>\n",
              "    .dataframe tbody tr th:only-of-type {\n",
              "        vertical-align: middle;\n",
              "    }\n",
              "\n",
              "    .dataframe tbody tr th {\n",
              "        vertical-align: top;\n",
              "    }\n",
              "\n",
              "    .dataframe thead th {\n",
              "        text-align: right;\n",
              "    }\n",
              "</style>\n",
              "<table border=\"1\" class=\"dataframe\">\n",
              "  <thead>\n",
              "    <tr style=\"text-align: right;\">\n",
              "      <th></th>\n",
              "      <th>uniqueID</th>\n",
              "      <th>drugName</th>\n",
              "      <th>condition</th>\n",
              "      <th>review</th>\n",
              "      <th>rating</th>\n",
              "      <th>date</th>\n",
              "      <th>usefulCount</th>\n",
              "      <th>label</th>\n",
              "      <th>originalReview</th>\n",
              "    </tr>\n",
              "    <tr>\n",
              "      <th>drugName</th>\n",
              "      <th></th>\n",
              "      <th></th>\n",
              "      <th></th>\n",
              "      <th></th>\n",
              "      <th></th>\n",
              "      <th></th>\n",
              "      <th></th>\n",
              "      <th></th>\n",
              "      <th></th>\n",
              "    </tr>\n",
              "  </thead>\n",
              "  <tbody>\n",
              "    <tr>\n",
              "      <th>Levonorgestrel</th>\n",
              "      <td>3657</td>\n",
              "      <td>1</td>\n",
              "      <td>4</td>\n",
              "      <td>3653</td>\n",
              "      <td>10</td>\n",
              "      <td>1603</td>\n",
              "      <td>93</td>\n",
              "      <td>3</td>\n",
              "      <td>3656</td>\n",
              "    </tr>\n",
              "    <tr>\n",
              "      <th>Etonogestrel</th>\n",
              "      <td>3336</td>\n",
              "      <td>1</td>\n",
              "      <td>2</td>\n",
              "      <td>3336</td>\n",
              "      <td>10</td>\n",
              "      <td>1659</td>\n",
              "      <td>77</td>\n",
              "      <td>3</td>\n",
              "      <td>3336</td>\n",
              "    </tr>\n",
              "    <tr>\n",
              "      <th>Ethinyl estradiol / norethindrone</th>\n",
              "      <td>2850</td>\n",
              "      <td>1</td>\n",
              "      <td>8</td>\n",
              "      <td>2849</td>\n",
              "      <td>10</td>\n",
              "      <td>1664</td>\n",
              "      <td>70</td>\n",
              "      <td>3</td>\n",
              "      <td>2849</td>\n",
              "    </tr>\n",
              "    <tr>\n",
              "      <th>Nexplanon</th>\n",
              "      <td>2156</td>\n",
              "      <td>1</td>\n",
              "      <td>7</td>\n",
              "      <td>2156</td>\n",
              "      <td>10</td>\n",
              "      <td>1050</td>\n",
              "      <td>53</td>\n",
              "      <td>3</td>\n",
              "      <td>2156</td>\n",
              "    </tr>\n",
              "    <tr>\n",
              "      <th>Ethinyl estradiol / norgestimate</th>\n",
              "      <td>2117</td>\n",
              "      <td>1</td>\n",
              "      <td>6</td>\n",
              "      <td>2115</td>\n",
              "      <td>10</td>\n",
              "      <td>1418</td>\n",
              "      <td>67</td>\n",
              "      <td>3</td>\n",
              "      <td>2115</td>\n",
              "    </tr>\n",
              "    <tr>\n",
              "      <th>Ethinyl estradiol / levonorgestrel</th>\n",
              "      <td>1888</td>\n",
              "      <td>1</td>\n",
              "      <td>7</td>\n",
              "      <td>1887</td>\n",
              "      <td>10</td>\n",
              "      <td>1328</td>\n",
              "      <td>56</td>\n",
              "      <td>3</td>\n",
              "      <td>1887</td>\n",
              "    </tr>\n",
              "    <tr>\n",
              "      <th>Phentermine</th>\n",
              "      <td>1543</td>\n",
              "      <td>1</td>\n",
              "      <td>3</td>\n",
              "      <td>1543</td>\n",
              "      <td>10</td>\n",
              "      <td>1177</td>\n",
              "      <td>150</td>\n",
              "      <td>3</td>\n",
              "      <td>1543</td>\n",
              "    </tr>\n",
              "    <tr>\n",
              "      <th>Sertraline</th>\n",
              "      <td>1360</td>\n",
              "      <td>1</td>\n",
              "      <td>18</td>\n",
              "      <td>1360</td>\n",
              "      <td>10</td>\n",
              "      <td>1052</td>\n",
              "      <td>172</td>\n",
              "      <td>3</td>\n",
              "      <td>1360</td>\n",
              "    </tr>\n",
              "    <tr>\n",
              "      <th>Escitalopram</th>\n",
              "      <td>1292</td>\n",
              "      <td>1</td>\n",
              "      <td>13</td>\n",
              "      <td>1289</td>\n",
              "      <td>10</td>\n",
              "      <td>1036</td>\n",
              "      <td>171</td>\n",
              "      <td>3</td>\n",
              "      <td>1291</td>\n",
              "    </tr>\n",
              "    <tr>\n",
              "      <th>Mirena</th>\n",
              "      <td>1242</td>\n",
              "      <td>1</td>\n",
              "      <td>12</td>\n",
              "      <td>1241</td>\n",
              "      <td>10</td>\n",
              "      <td>971</td>\n",
              "      <td>86</td>\n",
              "      <td>3</td>\n",
              "      <td>1242</td>\n",
              "    </tr>\n",
              "  </tbody>\n",
              "</table>\n",
              "</div>"
            ],
            "text/plain": [
              "                                    uniqueID  drugName  condition  review  \\\n",
              "drugName                                                                    \n",
              "Levonorgestrel                          3657         1          4    3653   \n",
              "Etonogestrel                            3336         1          2    3336   \n",
              "Ethinyl estradiol / norethindrone       2850         1          8    2849   \n",
              "Nexplanon                               2156         1          7    2156   \n",
              "Ethinyl estradiol / norgestimate        2117         1          6    2115   \n",
              "Ethinyl estradiol / levonorgestrel      1888         1          7    1887   \n",
              "Phentermine                             1543         1          3    1543   \n",
              "Sertraline                              1360         1         18    1360   \n",
              "Escitalopram                            1292         1         13    1289   \n",
              "Mirena                                  1242         1         12    1241   \n",
              "\n",
              "                                    rating  date  usefulCount  label  \\\n",
              "drugName                                                               \n",
              "Levonorgestrel                          10  1603           93      3   \n",
              "Etonogestrel                            10  1659           77      3   \n",
              "Ethinyl estradiol / norethindrone       10  1664           70      3   \n",
              "Nexplanon                               10  1050           53      3   \n",
              "Ethinyl estradiol / norgestimate        10  1418           67      3   \n",
              "Ethinyl estradiol / levonorgestrel      10  1328           56      3   \n",
              "Phentermine                             10  1177          150      3   \n",
              "Sertraline                              10  1052          172      3   \n",
              "Escitalopram                            10  1036          171      3   \n",
              "Mirena                                  10   971           86      3   \n",
              "\n",
              "                                    originalReview  \n",
              "drugName                                            \n",
              "Levonorgestrel                                3656  \n",
              "Etonogestrel                                  3336  \n",
              "Ethinyl estradiol / norethindrone             2849  \n",
              "Nexplanon                                     2156  \n",
              "Ethinyl estradiol / norgestimate              2115  \n",
              "Ethinyl estradiol / levonorgestrel            1887  \n",
              "Phentermine                                   1543  \n",
              "Sertraline                                    1360  \n",
              "Escitalopram                                  1291  \n",
              "Mirena                                        1242  "
            ]
          },
          "metadata": {
            "tags": []
          },
          "execution_count": 23
        }
      ]
    },
    {
      "metadata": {
        "id": "5V7BR5K64Mg_",
        "colab_type": "code",
        "outputId": "8ba75d4c-20c0-42f6-df96-54432b89bd31",
        "colab": {
          "base_uri": "https://localhost:8080/",
          "height": 891
        }
      },
      "cell_type": "code",
      "source": [
        "# Select data only from drug name Levonorgestrel\n",
        "drugName = \"Levonorgestrel\"\n",
        "datalevo = data.loc[data['drugName'] == drugName]\n",
        "# Check the number of records\n",
        "datalevo_size = len(datalevo)\n",
        "print(drugName, datalevo_size)\n",
        "\n",
        "# Appiled preprocessing function to review texts\n",
        "datalevo['originalReview']=datalevo['review']\n",
        "datalevo['review']=datalevo['review'].apply(preprocess_function)\n",
        "\n",
        "# Appiled stopword removing function to review texts\n",
        "datalevo['review']=datalevo['review'].apply(remove_sword)\n",
        "\n",
        "# Converting reviews to padded sequences\n",
        "samples_levo = datalevo['review']\n",
        "tokenizer_levo = Tokenizer(num_words = dict_size)\n",
        "tokenizer_levo.fit_on_texts(samples_levo)\n",
        "sequences_levo = tokenizer_levo.texts_to_sequences(samples_levo)\n",
        "x_train_levo = pad_sequences(sequences_levo, maxlen = 500)\n",
        "\n",
        "# Convert the labels to one_hot_category values\n",
        "labels_levo = datalevo['label']\n",
        "one_hot_labels_levo = to_categorical(labels_levo[:datalevo_size], num_classes = label_size)\n",
        "\n",
        "# Preparing Test Data for this Model\n",
        "test_datalevo = test_data.loc[test_data['drugName'] == drugName]\n",
        "if (len(test_datalevo)<500):\n",
        "  test_data_size = len(test_datalevo)\n",
        "else:\n",
        "  test_data_size = 500\n",
        "test_datalevo = test_datalevo.iloc[:test_data_size]\n",
        "samples_test_levo = test_datalevo['review']\n",
        "tokenizer_test_levo = Tokenizer(num_words = dict_size)\n",
        "tokenizer_test_levo.fit_on_texts(samples_test_levo)\n",
        "sequences_test_levo = tokenizer_test_levo.texts_to_sequences(samples_test_levo)\n",
        "x_test_levo = pad_sequences(sequences_test_levo, maxlen = 500)\n",
        "labels_test_levo = test_datalevo['label']\n",
        "one_hot_labels_test_levo = to_categorical(labels_test_levo[:test_data_size], num_classes = label_size)\n",
        "\n",
        "# Check dataset\n",
        "datalevo.head()"
      ],
      "execution_count": 0,
      "outputs": [
        {
          "output_type": "stream",
          "text": [
            "Levonorgestrel 3657\n"
          ],
          "name": "stdout"
        },
        {
          "output_type": "execute_result",
          "data": {
            "text/html": [
              "<div>\n",
              "<style scoped>\n",
              "    .dataframe tbody tr th:only-of-type {\n",
              "        vertical-align: middle;\n",
              "    }\n",
              "\n",
              "    .dataframe tbody tr th {\n",
              "        vertical-align: top;\n",
              "    }\n",
              "\n",
              "    .dataframe thead th {\n",
              "        text-align: right;\n",
              "    }\n",
              "</style>\n",
              "<table border=\"1\" class=\"dataframe\">\n",
              "  <thead>\n",
              "    <tr style=\"text-align: right;\">\n",
              "      <th></th>\n",
              "      <th>uniqueID</th>\n",
              "      <th>drugName</th>\n",
              "      <th>condition</th>\n",
              "      <th>review</th>\n",
              "      <th>rating</th>\n",
              "      <th>date</th>\n",
              "      <th>usefulCount</th>\n",
              "      <th>label</th>\n",
              "      <th>originalReview</th>\n",
              "    </tr>\n",
              "  </thead>\n",
              "  <tbody>\n",
              "    <tr>\n",
              "      <th>6</th>\n",
              "      <td>165907</td>\n",
              "      <td>Levonorgestrel</td>\n",
              "      <td>Emergency Contraception</td>\n",
              "      <td>pull cum bit plan hour pregnanc test week pre...</td>\n",
              "      <td>1</td>\n",
              "      <td>7-Mar-17</td>\n",
              "      <td>5</td>\n",
              "      <td>-1</td>\n",
              "      <td>pull cum bit plan hour pregnanc test week pre...</td>\n",
              "    </tr>\n",
              "    <tr>\n",
              "      <th>83</th>\n",
              "      <td>131041</td>\n",
              "      <td>Levonorgestrel</td>\n",
              "      <td>Birth Control</td>\n",
              "      <td>mirena year ago insert breez cramp period rem...</td>\n",
              "      <td>1</td>\n",
              "      <td>18-Jan-10</td>\n",
              "      <td>10</td>\n",
              "      <td>-1</td>\n",
              "      <td>mirena year ago insert breez cramp period rem...</td>\n",
              "    </tr>\n",
              "    <tr>\n",
              "      <th>113</th>\n",
              "      <td>166891</td>\n",
              "      <td>Levonorgestrel</td>\n",
              "      <td>Birth Control</td>\n",
              "      <td>time skyla absolut breez skyla togeth sinc oc...</td>\n",
              "      <td>10</td>\n",
              "      <td>14-Jul-16</td>\n",
              "      <td>1</td>\n",
              "      <td>1</td>\n",
              "      <td>time skyla absolut breez skyla togeth sinc oc...</td>\n",
              "    </tr>\n",
              "    <tr>\n",
              "      <th>139</th>\n",
              "      <td>130867</td>\n",
              "      <td>Levonorgestrel</td>\n",
              "      <td>Birth Control</td>\n",
              "      <td>kid child born suffer daili tension migrain h...</td>\n",
              "      <td>2</td>\n",
              "      <td>26-Jun-11</td>\n",
              "      <td>2</td>\n",
              "      <td>-1</td>\n",
              "      <td>kid child born suffer daili tension migrain h...</td>\n",
              "    </tr>\n",
              "    <tr>\n",
              "      <th>144</th>\n",
              "      <td>165523</td>\n",
              "      <td>Levonorgestrel</td>\n",
              "      <td>Birth Control</td>\n",
              "      <td>liletta insert novemb process bad numb inject...</td>\n",
              "      <td>3</td>\n",
              "      <td>24-May-17</td>\n",
              "      <td>4</td>\n",
              "      <td>-1</td>\n",
              "      <td>liletta insert novemb process overal bad numb...</td>\n",
              "    </tr>\n",
              "  </tbody>\n",
              "</table>\n",
              "</div>"
            ],
            "text/plain": [
              "     uniqueID        drugName                condition  \\\n",
              "6      165907  Levonorgestrel  Emergency Contraception   \n",
              "83     131041  Levonorgestrel            Birth Control   \n",
              "113    166891  Levonorgestrel            Birth Control   \n",
              "139    130867  Levonorgestrel            Birth Control   \n",
              "144    165523  Levonorgestrel            Birth Control   \n",
              "\n",
              "                                                review  rating       date  \\\n",
              "6     pull cum bit plan hour pregnanc test week pre...       1   7-Mar-17   \n",
              "83    mirena year ago insert breez cramp period rem...       1  18-Jan-10   \n",
              "113   time skyla absolut breez skyla togeth sinc oc...      10  14-Jul-16   \n",
              "139   kid child born suffer daili tension migrain h...       2  26-Jun-11   \n",
              "144   liletta insert novemb process bad numb inject...       3  24-May-17   \n",
              "\n",
              "     usefulCount  label                                     originalReview  \n",
              "6              5     -1   pull cum bit plan hour pregnanc test week pre...  \n",
              "83            10     -1   mirena year ago insert breez cramp period rem...  \n",
              "113            1      1   time skyla absolut breez skyla togeth sinc oc...  \n",
              "139            2     -1   kid child born suffer daili tension migrain h...  \n",
              "144            4     -1   liletta insert novemb process overal bad numb...  "
            ]
          },
          "metadata": {
            "tags": []
          },
          "execution_count": 24
        }
      ]
    },
    {
      "metadata": {
        "id": "COme07RA7bAN",
        "colab_type": "code",
        "outputId": "95fa6fb8-bfd4-4518-a8b8-a4c6d4065b88",
        "colab": {
          "base_uri": "https://localhost:8080/",
          "height": 136
        }
      },
      "cell_type": "code",
      "source": [
        "# Check training output\n",
        "x_train_levo"
      ],
      "execution_count": 0,
      "outputs": [
        {
          "output_type": "execute_result",
          "data": {
            "text/plain": [
              "array([[  0,   0,   0, ...,  94,   8,  30],\n",
              "       [  0,   0,   0, ...,  14,  14,  34],\n",
              "       [  0,   0,   0, ...,   4, 661, 205],\n",
              "       ...,\n",
              "       [  0,   0,   0, ...,  87, 148, 114],\n",
              "       [  0,   0,   0, ..., 604, 447,  71],\n",
              "       [  0,   0,   0, ...,  41,  28,  86]], dtype=int32)"
            ]
          },
          "metadata": {
            "tags": []
          },
          "execution_count": 25
        }
      ]
    },
    {
      "metadata": {
        "id": "laMRTU6x8_NL",
        "colab_type": "code",
        "outputId": "8f131e45-1539-43c3-cf82-a235c7ce4b52",
        "colab": {
          "base_uri": "https://localhost:8080/",
          "height": 136
        }
      },
      "cell_type": "code",
      "source": [
        "# Check label output\n",
        "one_hot_labels_levo"
      ],
      "execution_count": 0,
      "outputs": [
        {
          "output_type": "execute_result",
          "data": {
            "text/plain": [
              "array([[0., 0., 1.],\n",
              "       [0., 0., 1.],\n",
              "       [0., 1., 0.],\n",
              "       ...,\n",
              "       [0., 0., 1.],\n",
              "       [0., 1., 0.],\n",
              "       [0., 1., 0.]], dtype=float32)"
            ]
          },
          "metadata": {
            "tags": []
          },
          "execution_count": 26
        }
      ]
    },
    {
      "metadata": {
        "id": "bVuwGdpS6AW7",
        "colab_type": "code",
        "outputId": "624ae1f0-89cd-40b1-b70d-667bee1e25f0",
        "colab": {
          "base_uri": "https://localhost:8080/",
          "height": 840
        }
      },
      "cell_type": "code",
      "source": [
        "# Select data only from drug name Levonorgestrel\n",
        "drugName = \"Etonogestrel\"\n",
        "dataeto = data.loc[data['drugName'] == drugName]\n",
        "# Check the number of records\n",
        "dataeto_size = len(dataeto)\n",
        "print(drugName, dataeto_size)\n",
        "\n",
        "# Appiled preprocessing function to review texts\n",
        "dataeto['originalReview']=dataeto['review']\n",
        "dataeto['review']=dataeto['review'].apply(preprocess_function)\n",
        "\n",
        "# Appiled stopword removing function to review texts\n",
        "dataeto['review']=dataeto['review'].apply(remove_sword)\n",
        "\n",
        "# Converting reviews to padded sequences\n",
        "samples_eto = dataeto['review']\n",
        "tokenizer_eto = Tokenizer(num_words = dict_size)\n",
        "tokenizer_eto.fit_on_texts(samples_eto)\n",
        "sequences_eto = tokenizer_eto.texts_to_sequences(samples_eto)\n",
        "x_train_eto = pad_sequences(sequences_eto, maxlen = 500)\n",
        "\n",
        "# Convert the labels to one_hot_category values\n",
        "labels_eto = dataeto['label']\n",
        "one_hot_labels_eto = to_categorical(labels_eto[:dataeto_size], num_classes = label_size)\n",
        "\n",
        "# Preparing Test Data for this Model\n",
        "test_dataeto = test_data.loc[test_data['drugName'] == drugName]\n",
        "if (len(test_dataeto)<500):\n",
        "  test_data_size = len(test_dataeto)\n",
        "else:\n",
        "  test_data_size = 500\n",
        "test_dataeto = test_dataeto.iloc[:test_data_size]\n",
        "samples_test_eto = test_dataeto['review']\n",
        "tokenizer_test_eto = Tokenizer(num_words = dict_size)\n",
        "tokenizer_test_eto.fit_on_texts(samples_test_eto)\n",
        "sequences_test_eto = tokenizer_test_eto.texts_to_sequences(samples_test_eto)\n",
        "x_test_eto = pad_sequences(sequences_test_eto, maxlen = 500)\n",
        "labels_test_eto = test_dataeto['label']\n",
        "one_hot_labels_test_eto = to_categorical(labels_test_eto[:test_data_size], num_classes = label_size)\n",
        "\n",
        "# Check dataset\n",
        "dataeto.head()"
      ],
      "execution_count": 0,
      "outputs": [
        {
          "output_type": "stream",
          "text": [
            "Etonogestrel 3336\n"
          ],
          "name": "stdout"
        },
        {
          "output_type": "execute_result",
          "data": {
            "text/html": [
              "<div>\n",
              "<style scoped>\n",
              "    .dataframe tbody tr th:only-of-type {\n",
              "        vertical-align: middle;\n",
              "    }\n",
              "\n",
              "    .dataframe tbody tr th {\n",
              "        vertical-align: top;\n",
              "    }\n",
              "\n",
              "    .dataframe thead th {\n",
              "        text-align: right;\n",
              "    }\n",
              "</style>\n",
              "<table border=\"1\" class=\"dataframe\">\n",
              "  <thead>\n",
              "    <tr style=\"text-align: right;\">\n",
              "      <th></th>\n",
              "      <th>uniqueID</th>\n",
              "      <th>drugName</th>\n",
              "      <th>condition</th>\n",
              "      <th>review</th>\n",
              "      <th>rating</th>\n",
              "      <th>date</th>\n",
              "      <th>usefulCount</th>\n",
              "      <th>label</th>\n",
              "      <th>originalReview</th>\n",
              "    </tr>\n",
              "  </thead>\n",
              "  <tbody>\n",
              "    <tr>\n",
              "      <th>22</th>\n",
              "      <td>227020</td>\n",
              "      <td>Etonogestrel</td>\n",
              "      <td>Birth Control</td>\n",
              "      <td>nexplanon doe job worri free sex onli thing p...</td>\n",
              "      <td>9</td>\n",
              "      <td>11-Aug-14</td>\n",
              "      <td>11</td>\n",
              "      <td>1</td>\n",
              "      <td>nexplanon doe job worri free sex onli thing p...</td>\n",
              "    </tr>\n",
              "    <tr>\n",
              "      <th>74</th>\n",
              "      <td>144224</td>\n",
              "      <td>Etonogestrel</td>\n",
              "      <td>Birth Control</td>\n",
              "      <td>experi dure nexplon great pregnanc onli issu ...</td>\n",
              "      <td>10</td>\n",
              "      <td>27-May-16</td>\n",
              "      <td>1</td>\n",
              "      <td>1</td>\n",
              "      <td>experi dure nexplon great pregnanc onli issu ...</td>\n",
              "    </tr>\n",
              "    <tr>\n",
              "      <th>123</th>\n",
              "      <td>144777</td>\n",
              "      <td>Etonogestrel</td>\n",
              "      <td>Birth Control</td>\n",
              "      <td>birth control gain replac gain weight bare pe...</td>\n",
              "      <td>3</td>\n",
              "      <td>27-Jan-16</td>\n",
              "      <td>0</td>\n",
              "      <td>-1</td>\n",
              "      <td>birth control gain replac gain weight bare pe...</td>\n",
              "    </tr>\n",
              "    <tr>\n",
              "      <th>138</th>\n",
              "      <td>227293</td>\n",
              "      <td>Etonogestrel</td>\n",
              "      <td>Birth Control</td>\n",
              "      <td>absolut love nexplanon ladi super hesit trine...</td>\n",
              "      <td>9</td>\n",
              "      <td>29-Sep-13</td>\n",
              "      <td>8</td>\n",
              "      <td>1</td>\n",
              "      <td>absolut love nexplanon ladi super hesit trine...</td>\n",
              "    </tr>\n",
              "    <tr>\n",
              "      <th>152</th>\n",
              "      <td>143971</td>\n",
              "      <td>Etonogestrel</td>\n",
              "      <td>Birth Control</td>\n",
              "      <td>year nexplanon problem bled month straight ve...</td>\n",
              "      <td>5</td>\n",
              "      <td>8-Aug-16</td>\n",
              "      <td>6</td>\n",
              "      <td>-1</td>\n",
              "      <td>year nexplanon problem bled month straight ve...</td>\n",
              "    </tr>\n",
              "  </tbody>\n",
              "</table>\n",
              "</div>"
            ],
            "text/plain": [
              "     uniqueID      drugName      condition  \\\n",
              "22     227020  Etonogestrel  Birth Control   \n",
              "74     144224  Etonogestrel  Birth Control   \n",
              "123    144777  Etonogestrel  Birth Control   \n",
              "138    227293  Etonogestrel  Birth Control   \n",
              "152    143971  Etonogestrel  Birth Control   \n",
              "\n",
              "                                                review  rating       date  \\\n",
              "22    nexplanon doe job worri free sex onli thing p...       9  11-Aug-14   \n",
              "74    experi dure nexplon great pregnanc onli issu ...      10  27-May-16   \n",
              "123   birth control gain replac gain weight bare pe...       3  27-Jan-16   \n",
              "138   absolut love nexplanon ladi super hesit trine...       9  29-Sep-13   \n",
              "152   year nexplanon problem bled month straight ve...       5   8-Aug-16   \n",
              "\n",
              "     usefulCount  label                                     originalReview  \n",
              "22            11      1   nexplanon doe job worri free sex onli thing p...  \n",
              "74             1      1   experi dure nexplon great pregnanc onli issu ...  \n",
              "123            0     -1   birth control gain replac gain weight bare pe...  \n",
              "138            8      1   absolut love nexplanon ladi super hesit trine...  \n",
              "152            6     -1   year nexplanon problem bled month straight ve...  "
            ]
          },
          "metadata": {
            "tags": []
          },
          "execution_count": 27
        }
      ]
    },
    {
      "metadata": {
        "id": "TPWbsLiM70iH",
        "colab_type": "code",
        "outputId": "c72e1448-228a-45b8-9693-e6c4afeecf6f",
        "colab": {
          "base_uri": "https://localhost:8080/",
          "height": 136
        }
      },
      "cell_type": "code",
      "source": [
        "# Check training output\n",
        "x_train_eto"
      ],
      "execution_count": 0,
      "outputs": [
        {
          "output_type": "execute_result",
          "data": {
            "text/plain": [
              "array([[  0,   0,   0, ...,  11,  10, 188],\n",
              "       [  0,   0,   0, ..., 383,  24,  71],\n",
              "       [  0,   0,   0, ...,  14, 242, 118],\n",
              "       ...,\n",
              "       [  0,   0,   0, ...,   3, 104, 605],\n",
              "       [  0,   0,   0, ...,  26, 391,  58],\n",
              "       [  0,   0,   0, ...,  43,  37, 207]], dtype=int32)"
            ]
          },
          "metadata": {
            "tags": []
          },
          "execution_count": 28
        }
      ]
    },
    {
      "metadata": {
        "id": "AmvxOO-y9Sys",
        "colab_type": "code",
        "outputId": "909bfa60-04f9-4cf8-fb28-1a088148539e",
        "colab": {
          "base_uri": "https://localhost:8080/",
          "height": 136
        }
      },
      "cell_type": "code",
      "source": [
        "# Check label output\n",
        "one_hot_labels_eto"
      ],
      "execution_count": 0,
      "outputs": [
        {
          "output_type": "execute_result",
          "data": {
            "text/plain": [
              "array([[0., 1., 0.],\n",
              "       [0., 1., 0.],\n",
              "       [0., 0., 1.],\n",
              "       ...,\n",
              "       [0., 1., 0.],\n",
              "       [0., 0., 1.],\n",
              "       [0., 0., 1.]], dtype=float32)"
            ]
          },
          "metadata": {
            "tags": []
          },
          "execution_count": 29
        }
      ]
    },
    {
      "metadata": {
        "id": "uzBXR0611aeD",
        "colab_type": "text"
      },
      "cell_type": "markdown",
      "source": [
        "### 3.9. Declare Helper Functions\n",
        "<hr>\n",
        "<br>Next, we declare function use to train model and print out matrix scores and graphs."
      ]
    },
    {
      "metadata": {
        "id": "1wleWSfRVNmQ",
        "colab_type": "code",
        "colab": {}
      },
      "cell_type": "code",
      "source": [
        "# Similarly create a function for model training, for demonstration purposes we use constant values\n",
        "\n",
        "score_list = []\n",
        "\n",
        "def train_model(model_name, model, x, y, e = 10, bs = 32, v = 1, vs = 0.25):\n",
        "  \n",
        "    # Save the model giving best validation loss\n",
        "    cb = ModelCheckpoint('bestmodel_'+model_name+'.h5', \n",
        "                          monitor = 'val_loss', \n",
        "                          verbose = 0, \n",
        "                          save_best_only = True)\n",
        "    \n",
        "    # Declare Early Stopping\n",
        "    es = EarlyStopping(monitor='val_loss', mode='min', verbose=1)\n",
        "    \n",
        "    # Start timing\n",
        "    start = time.time()\n",
        "    \n",
        "    # Create validation set, equally split dataset into traning set and validation set for all labels\n",
        "    stratSplit = StratifiedShuffleSplit(n_splits=1, test_size=vs, random_state=42)\n",
        "    for train_dat,test_dat in stratSplit.split(x, y):\n",
        "        X_train = x[train_dat]\n",
        "        y_train = y[train_dat]\n",
        "        X_val = x[test_dat]\n",
        "        y_val = y[test_dat]\n",
        "#     set_of_train = pd.concat([X_train, y_train], axis=1)\n",
        "#     set_of_val = pd.concat([X_val, y_val], axis=1)\n",
        "\n",
        "    # Training\n",
        "    print('Training the model ...')\n",
        "#     h = model.fit(x, y, epochs = e, batch_size = bs, verbose = v, validation_split = vs, callbacks = [cb],class_weight=class_weights)\n",
        "    h = model.fit(X_train, y_train, epochs = e, batch_size = bs, verbose = v, validation_data=(X_val, y_val), callbacks = [cb],class_weight=class_weights)\n",
        "    stop = time.time()\n",
        "    etime = stop - start\n",
        "    print('Training done, time used is '+str(etime))\n",
        "\n",
        "    # Update the initial epoch, used for saving the previous trainings, if trained several times\n",
        "    model.save('model_'+model_name+'.h5')\n",
        "    print(\"\")\n",
        "    \n",
        "    # Save the history\n",
        "    import pickle\n",
        "    with open('history_'+model_name, 'wb') as file_pi:\n",
        "        pickle.dump(h.history, file_pi)\n",
        "        \n",
        "    # Load best model\n",
        "    loadedmodel = load_model('model_'+model_name+'.h5')\n",
        "    \n",
        "    print('Calculating Final Model Scores :')\n",
        "    \n",
        "    # Print total accuracy and confusion matrix\n",
        "    val_predicts = loadedmodel.predict(X_val)\n",
        "    y_pred = argmax(val_predicts, axis = 1)\n",
        "    labels_test_argmax = argmax(y_val, axis = 1)\n",
        "    cm = confusion_matrix(labels_test_argmax, y_pred)\n",
        "#     score = loadedmodel.evaluate(x_test, one_hot_labels_test, batch_size=32)\n",
        "    print('--------------------Final Model Scores--------------------')\n",
        "#     print('Validation loss:', score[0])\n",
        "#     print('Validation accuracy:', score[1])\n",
        "    print('Total accuracy: {:.4f}'.format(np.trace(cm)/sum(cm)))\n",
        "    print('Confusion matrix:')\n",
        "    print(cm)\n",
        "\n",
        "    # Calculate precision, recall, fscore and support\n",
        "    with warnings.catch_warnings():\n",
        "        warnings.simplefilter(\"ignore\")\n",
        "        p, r, f, s = precision_recall_fscore_support(labels_test_argmax, y_pred)\n",
        "        \n",
        "    # Print precision, recall, fscore and support  \n",
        "    np.set_printoptions(formatter={'float': '{: 0.3f}'.format})\n",
        "    print('Support: ', s)\n",
        "    print('Precision:', p)\n",
        "    print('Recall:   ', r)\n",
        "    print('F-score:  ', f)\n",
        "    print('---------------------------------------------------------')\n",
        "    print('')\n",
        "    \n",
        "    # Load final model\n",
        "    loadedmodel = load_model('bestmodel_'+model_name+'.h5')\n",
        "    \n",
        "    print('Calculating Best Model Scores :')\n",
        "    \n",
        "    # Print total accuracy and confusion matrix\n",
        "    val_predicts = loadedmodel.predict(X_val)\n",
        "    y_pred = argmax(val_predicts, axis = 1)\n",
        "    labels_test_argmax = argmax(y_val, axis = 1)\n",
        "    cm = confusion_matrix(labels_test_argmax, y_pred)\n",
        "#     score = loadedmodel.evaluate(x_test, one_hot_labels_test, batch_size=32)\n",
        "    print('--------------------Best Model Scores--------------------')\n",
        "#     print('Validation loss:', score[0])\n",
        "#     print('Validation accuracy:', score[1])\n",
        "    print('Total accuracy: {:.4f}'.format(np.trace(cm)/sum(cm)))\n",
        "    print('Confusion matrix:')\n",
        "    print(cm)\n",
        "\n",
        "    # Calculate precision, recall, fscore and support\n",
        "    with warnings.catch_warnings():\n",
        "        warnings.simplefilter(\"ignore\")\n",
        "        p, r, f, s = precision_recall_fscore_support(labels_test_argmax, y_pred)\n",
        "        \n",
        "    # Print precision, recall, fscore and support  \n",
        "    np.set_printoptions(formatter={'float': '{: 0.3f}'.format})\n",
        "    print('Support: ', s)\n",
        "    print('Precision:', p)\n",
        "    print('Recall:   ', r)\n",
        "    print('F-score:  ', f)\n",
        "    print('---------------------------------------------------------')\n",
        "    print('')\n",
        "    \n",
        "    score_list.append([model_name,cm,s,p,r,f])\n",
        "    \n",
        "    return h"
      ],
      "execution_count": 0,
      "outputs": []
    },
    {
      "metadata": {
        "id": "80Uw-9BH1aeE",
        "colab_type": "code",
        "colab": {}
      },
      "cell_type": "code",
      "source": [
        "# We use the same plotting commands several times, so create a function for that purpose\n",
        "def plot_history(history):\n",
        "    \n",
        "    f, ax = plt.subplots(1, 2, figsize = (16, 7))\n",
        "    \n",
        "    acc = history.history['acc']\n",
        "    val_acc = history.history['val_acc']\n",
        "    loss = history.history['loss']\n",
        "    val_loss = history.history['val_loss']\n",
        "\n",
        "    epochs = range(1, len(acc) + 1)\n",
        "\n",
        "    plt.sca(ax[0])\n",
        "    plt.plot(epochs, acc, 'bo', label='Training acc')\n",
        "    plt.plot(epochs, val_acc, 'b', label='Validation acc')\n",
        "    plt.title('Training and validation accuracy')\n",
        "    plt.legend()\n",
        "\n",
        "    plt.sca(ax[1])\n",
        "    plt.plot(epochs, loss, 'bo', label='Training loss')\n",
        "    plt.plot(epochs, val_loss, 'b', label='Validation loss')\n",
        "    plt.title('Training and validation loss')\n",
        "    plt.legend()\n",
        "\n",
        "    plt.show()"
      ],
      "execution_count": 0,
      "outputs": []
    },
    {
      "metadata": {
        "id": "7E6_ljeM1aeB",
        "colab_type": "text"
      },
      "cell_type": "markdown",
      "source": [
        "## 4. Modeling and compilation\n",
        "\n",
        "<br>As we stated earlier, we will try different methods and compare the results to find the best and most accurate model for classify drug review into 3 rating categories. \n",
        "\n",
        "<br>In this case study, we want to compare how model can be improve with preprocessed data and without preprocessed them. Here are models we will use to perform in this experiment.\n",
        "\n",
        "1. **Conv1D model with non-preprocessed data**\n",
        "2. **LSTM model with non-preprocessed data**\n",
        "3. **GRU model with non-preprocessed data**\n",
        "<br>\n",
        "<br>\n",
        "4. **Conv1D model with preprocessed data**\n",
        "5. **LSTM model with preprocessed data**\n",
        "6. **GRU model with preprocessed data**\n",
        "\n",
        "<br>We will use these three models to train for both preprocessed data and non-preprocessed data. The result will be clarify and discuss in the discusiion part.\n",
        "\n",
        "<br>Moreover, we want to experiment to seperating data to train model for each drug individually. So, we experiment by seperate 2 new datasets that contain only Levenorgestrel drug and Etonogestrel drug review record respectively and train two model based on these two datasets individually.\n",
        "\n",
        "6. **GRU Model with only Levonorgestrel drug data**\n",
        "6. **GRU Model with only Etonogestrel drug data**\n",
        "\n",
        "<br>Here below is how we construct our model."
      ]
    },
    {
      "metadata": {
        "id": "FwFOt8nOWl8C",
        "colab_type": "text"
      },
      "cell_type": "markdown",
      "source": [
        "###4.1. Model without Preprocessing Data"
      ]
    },
    {
      "metadata": {
        "id": "G13NAPBFW0px",
        "colab_type": "text"
      },
      "cell_type": "markdown",
      "source": [
        "#### 4.1.1. Conv1D Model"
      ]
    },
    {
      "metadata": {
        "id": "nxhHWKWcVW6i",
        "colab_type": "code",
        "outputId": "33d0e0a2-4b5a-4213-c2d3-d0bfa38e082d",
        "colab": {
          "base_uri": "https://localhost:8080/",
          "height": 408
        }
      },
      "cell_type": "code",
      "source": [
        "m1 = Sequential()\n",
        "m1.add(Embedding(1000, 32, input_length = 500))\n",
        "m1.add(Conv1D(32, 7, activation = 'relu'))\n",
        "m1.add(Conv1D(64, 7, activation = 'relu'))\n",
        "m1.add(MaxPooling1D(5))\n",
        "m1.add(Conv1D(64, 7, activation = 'relu'))\n",
        "m1.add(Conv1D(32, 7, activation = 'relu'))\n",
        "m1.add(GlobalMaxPooling1D())\n",
        "m1.add(Dense(3, activation = 'softmax'))\n",
        "m1.compile(optimizer = 'rmsprop', loss = 'categorical_crossentropy', metrics = ['acc'])\n",
        "m1.summary()"
      ],
      "execution_count": 0,
      "outputs": [
        {
          "output_type": "stream",
          "text": [
            "_________________________________________________________________\n",
            "Layer (type)                 Output Shape              Param #   \n",
            "=================================================================\n",
            "embedding_1 (Embedding)      (None, 500, 32)           32000     \n",
            "_________________________________________________________________\n",
            "conv1d_1 (Conv1D)            (None, 494, 32)           7200      \n",
            "_________________________________________________________________\n",
            "conv1d_2 (Conv1D)            (None, 488, 64)           14400     \n",
            "_________________________________________________________________\n",
            "max_pooling1d_1 (MaxPooling1 (None, 97, 64)            0         \n",
            "_________________________________________________________________\n",
            "conv1d_3 (Conv1D)            (None, 91, 64)            28736     \n",
            "_________________________________________________________________\n",
            "conv1d_4 (Conv1D)            (None, 85, 32)            14368     \n",
            "_________________________________________________________________\n",
            "global_max_pooling1d_1 (Glob (None, 32)                0         \n",
            "_________________________________________________________________\n",
            "dense_1 (Dense)              (None, 3)                 99        \n",
            "=================================================================\n",
            "Total params: 96,803\n",
            "Trainable params: 96,803\n",
            "Non-trainable params: 0\n",
            "_________________________________________________________________\n"
          ],
          "name": "stdout"
        }
      ]
    },
    {
      "metadata": {
        "id": "497nWJ8_cqNN",
        "colab_type": "text"
      },
      "cell_type": "markdown",
      "source": [
        "#### 4.1.2. LSTM Model"
      ]
    },
    {
      "metadata": {
        "id": "16l_6qIrcvv0",
        "colab_type": "code",
        "outputId": "48ca9bed-d26f-4918-c6bb-32718aecb98e",
        "colab": {
          "base_uri": "https://localhost:8080/",
          "height": 238
        }
      },
      "cell_type": "code",
      "source": [
        "m2 = Sequential()\n",
        "m2.add(Embedding(1000, 16, input_length = 500))\n",
        "m2.add(LSTM(32,activity_regularizer=l1(0.001)))\n",
        "m2.add(Dense(3, activation = 'softmax'))\n",
        "m2.compile(optimizer = 'rmsprop', loss = 'categorical_crossentropy', metrics = ['acc'])\n",
        "m2.summary()"
      ],
      "execution_count": 0,
      "outputs": [
        {
          "output_type": "stream",
          "text": [
            "_________________________________________________________________\n",
            "Layer (type)                 Output Shape              Param #   \n",
            "=================================================================\n",
            "embedding_1 (Embedding)      (None, 500, 16)           16000     \n",
            "_________________________________________________________________\n",
            "lstm_1 (LSTM)                (None, 32)                6272      \n",
            "_________________________________________________________________\n",
            "dense_1 (Dense)              (None, 3)                 99        \n",
            "=================================================================\n",
            "Total params: 22,371\n",
            "Trainable params: 22,371\n",
            "Non-trainable params: 0\n",
            "_________________________________________________________________\n"
          ],
          "name": "stdout"
        }
      ]
    },
    {
      "metadata": {
        "id": "e_kjyKQ3k8uo",
        "colab_type": "text"
      },
      "cell_type": "markdown",
      "source": [
        "#### 4.1.3. GRU Model"
      ]
    },
    {
      "metadata": {
        "id": "65EROk61k-IB",
        "colab_type": "code",
        "outputId": "051df5e3-1702-4841-aff6-40a78f77bf36",
        "colab": {
          "base_uri": "https://localhost:8080/",
          "height": 238
        }
      },
      "cell_type": "code",
      "source": [
        "m3 = Sequential()\n",
        "m3.add(Embedding(1000, 8, input_length = 500))\n",
        "m3.add(GRU(8, dropout = 0.2, recurrent_dropout = 0.2))\n",
        "m3.add(Dense(3, activation = 'softmax'))\n",
        "m3.compile(optimizer = 'rmsprop', loss = 'categorical_crossentropy', metrics = ['acc'])\n",
        "m3.summary()"
      ],
      "execution_count": 0,
      "outputs": [
        {
          "output_type": "stream",
          "text": [
            "_________________________________________________________________\n",
            "Layer (type)                 Output Shape              Param #   \n",
            "=================================================================\n",
            "embedding_1 (Embedding)      (None, 500, 8)            8000      \n",
            "_________________________________________________________________\n",
            "gru_1 (GRU)                  (None, 8)                 408       \n",
            "_________________________________________________________________\n",
            "dense_1 (Dense)              (None, 3)                 27        \n",
            "=================================================================\n",
            "Total params: 8,435\n",
            "Trainable params: 8,435\n",
            "Non-trainable params: 0\n",
            "_________________________________________________________________\n"
          ],
          "name": "stdout"
        }
      ]
    },
    {
      "metadata": {
        "id": "Ir9HI05dnmAr",
        "colab_type": "text"
      },
      "cell_type": "markdown",
      "source": [
        "### 4.2. Model with Preprocessing Data"
      ]
    },
    {
      "metadata": {
        "id": "oCxoMhz8np59",
        "colab_type": "text"
      },
      "cell_type": "markdown",
      "source": [
        "#### 4.2.1. Conv1D Model"
      ]
    },
    {
      "metadata": {
        "id": "sgbwsuqinrd8",
        "colab_type": "code",
        "outputId": "21c10821-8b61-4cc0-e040-6c638d531fbc",
        "colab": {
          "base_uri": "https://localhost:8080/",
          "height": 408
        }
      },
      "cell_type": "code",
      "source": [
        "m4 = Sequential()\n",
        "m4.add(Embedding(1000, 32, input_length = 500))\n",
        "m4.add(Conv1D(32, 7, activation = 'relu'))\n",
        "m4.add(Conv1D(64, 7, activation = 'relu'))\n",
        "m4.add(MaxPooling1D(5))\n",
        "m4.add(Conv1D(64, 7, activation = 'relu'))\n",
        "m4.add(Conv1D(32, 7, activation = 'relu'))\n",
        "m4.add(GlobalMaxPooling1D())\n",
        "m4.add(Dense(3, activation = 'softmax'))\n",
        "m4.compile(optimizer = 'rmsprop', loss = 'categorical_crossentropy', metrics = ['acc'])\n",
        "m4.summary()"
      ],
      "execution_count": 0,
      "outputs": [
        {
          "output_type": "stream",
          "text": [
            "_________________________________________________________________\n",
            "Layer (type)                 Output Shape              Param #   \n",
            "=================================================================\n",
            "embedding_1 (Embedding)      (None, 500, 32)           32000     \n",
            "_________________________________________________________________\n",
            "conv1d_1 (Conv1D)            (None, 494, 32)           7200      \n",
            "_________________________________________________________________\n",
            "conv1d_2 (Conv1D)            (None, 488, 64)           14400     \n",
            "_________________________________________________________________\n",
            "max_pooling1d_1 (MaxPooling1 (None, 97, 64)            0         \n",
            "_________________________________________________________________\n",
            "conv1d_3 (Conv1D)            (None, 91, 64)            28736     \n",
            "_________________________________________________________________\n",
            "conv1d_4 (Conv1D)            (None, 85, 32)            14368     \n",
            "_________________________________________________________________\n",
            "global_max_pooling1d_1 (Glob (None, 32)                0         \n",
            "_________________________________________________________________\n",
            "dense_1 (Dense)              (None, 3)                 99        \n",
            "=================================================================\n",
            "Total params: 96,803\n",
            "Trainable params: 96,803\n",
            "Non-trainable params: 0\n",
            "_________________________________________________________________\n"
          ],
          "name": "stdout"
        }
      ]
    },
    {
      "metadata": {
        "id": "dZVOmuSgoXb7",
        "colab_type": "text"
      },
      "cell_type": "markdown",
      "source": [
        "#### 4.2.2. LSTM Model"
      ]
    },
    {
      "metadata": {
        "id": "MHz8YU0RoZHa",
        "colab_type": "code",
        "outputId": "3f74ebee-26d8-4a64-d954-b0b55d7e3756",
        "colab": {
          "base_uri": "https://localhost:8080/",
          "height": 238
        }
      },
      "cell_type": "code",
      "source": [
        "m5 = Sequential()\n",
        "m5.add(Embedding(1000, 16, input_length = 500))\n",
        "m5.add(LSTM(32,activity_regularizer=l1(0.001)))\n",
        "m5.add(Dense(3, activation = 'softmax'))\n",
        "m5.compile(optimizer = 'rmsprop', loss = 'categorical_crossentropy', metrics = ['acc'])\n",
        "m5.summary()"
      ],
      "execution_count": 0,
      "outputs": [
        {
          "output_type": "stream",
          "text": [
            "_________________________________________________________________\n",
            "Layer (type)                 Output Shape              Param #   \n",
            "=================================================================\n",
            "embedding_1 (Embedding)      (None, 500, 16)           16000     \n",
            "_________________________________________________________________\n",
            "lstm_1 (LSTM)                (None, 32)                6272      \n",
            "_________________________________________________________________\n",
            "dense_1 (Dense)              (None, 3)                 99        \n",
            "=================================================================\n",
            "Total params: 22,371\n",
            "Trainable params: 22,371\n",
            "Non-trainable params: 0\n",
            "_________________________________________________________________\n"
          ],
          "name": "stdout"
        }
      ]
    },
    {
      "metadata": {
        "id": "yG9sbSKDtGDb",
        "colab_type": "text"
      },
      "cell_type": "markdown",
      "source": [
        "#### 4.2.3. GRU Model"
      ]
    },
    {
      "metadata": {
        "id": "EKm0SzHqtHfn",
        "colab_type": "code",
        "outputId": "7b0d9b0d-f59c-42d8-dbd7-c89b3672c9b9",
        "colab": {
          "base_uri": "https://localhost:8080/",
          "height": 238
        }
      },
      "cell_type": "code",
      "source": [
        "m6 = Sequential()\n",
        "m6.add(Embedding(1000, 8, input_length = 500))\n",
        "m6.add(GRU(8, dropout = 0.2, recurrent_dropout = 0.2))\n",
        "m6.add(Dense(3, activation = 'softmax'))\n",
        "m6.compile(optimizer = 'rmsprop', loss = 'categorical_crossentropy', metrics = ['acc'])\n",
        "m6.summary()"
      ],
      "execution_count": 0,
      "outputs": [
        {
          "output_type": "stream",
          "text": [
            "_________________________________________________________________\n",
            "Layer (type)                 Output Shape              Param #   \n",
            "=================================================================\n",
            "embedding_1 (Embedding)      (None, 500, 8)            8000      \n",
            "_________________________________________________________________\n",
            "gru_1 (GRU)                  (None, 8)                 408       \n",
            "_________________________________________________________________\n",
            "dense_1 (Dense)              (None, 3)                 27        \n",
            "=================================================================\n",
            "Total params: 8,435\n",
            "Trainable params: 8,435\n",
            "Non-trainable params: 0\n",
            "_________________________________________________________________\n"
          ],
          "name": "stdout"
        }
      ]
    },
    {
      "metadata": {
        "id": "W4UEuOMjt7fs",
        "colab_type": "text"
      },
      "cell_type": "markdown",
      "source": [
        "### 4.3. Model with Selected Drug Data"
      ]
    },
    {
      "metadata": {
        "id": "StuxlTlX9v7l",
        "colab_type": "text"
      },
      "cell_type": "markdown",
      "source": [
        "#### 4.3.1. GRU Model for Levonorgestrel Drug"
      ]
    },
    {
      "metadata": {
        "id": "Saa8W1ia90DY",
        "colab_type": "code",
        "outputId": "f491fa39-e270-48de-bb82-954dc9dfd6a5",
        "colab": {
          "base_uri": "https://localhost:8080/",
          "height": 238
        }
      },
      "cell_type": "code",
      "source": [
        "m7 = Sequential()\n",
        "m7.add(Embedding(1000, 8, input_length = 500))\n",
        "m7.add(GRU(8, dropout = 0.2, recurrent_dropout = 0.2))\n",
        "m7.add(Dense(3, activation = 'softmax'))\n",
        "m7.compile(optimizer = 'rmsprop', loss = 'categorical_crossentropy', metrics = ['acc'])\n",
        "m7.summary()"
      ],
      "execution_count": 0,
      "outputs": [
        {
          "output_type": "stream",
          "text": [
            "_________________________________________________________________\n",
            "Layer (type)                 Output Shape              Param #   \n",
            "=================================================================\n",
            "embedding_1 (Embedding)      (None, 500, 8)            8000      \n",
            "_________________________________________________________________\n",
            "gru_1 (GRU)                  (None, 8)                 408       \n",
            "_________________________________________________________________\n",
            "dense_1 (Dense)              (None, 3)                 27        \n",
            "=================================================================\n",
            "Total params: 8,435\n",
            "Trainable params: 8,435\n",
            "Non-trainable params: 0\n",
            "_________________________________________________________________\n"
          ],
          "name": "stdout"
        }
      ]
    },
    {
      "metadata": {
        "id": "NN0NVP4pADxX",
        "colab_type": "text"
      },
      "cell_type": "markdown",
      "source": [
        "#### 4.3.2. GRU Model for Etonogestrel Drug"
      ]
    },
    {
      "metadata": {
        "id": "GUZhcy3DAHkG",
        "colab_type": "code",
        "outputId": "2f700617-0dfb-4870-df04-b2ac584ae492",
        "colab": {
          "base_uri": "https://localhost:8080/",
          "height": 238
        }
      },
      "cell_type": "code",
      "source": [
        "m8 = Sequential()\n",
        "m8.add(Embedding(1000, 8, input_length = 500))\n",
        "m8.add(GRU(8, dropout = 0.2, recurrent_dropout = 0.2))\n",
        "m8.add(Dense(3, activation = 'softmax'))\n",
        "m8.compile(optimizer = 'rmsprop', loss = 'categorical_crossentropy', metrics = ['acc'])\n",
        "m8.summary()"
      ],
      "execution_count": 0,
      "outputs": [
        {
          "output_type": "stream",
          "text": [
            "_________________________________________________________________\n",
            "Layer (type)                 Output Shape              Param #   \n",
            "=================================================================\n",
            "embedding_1 (Embedding)      (None, 500, 8)            8000      \n",
            "_________________________________________________________________\n",
            "gru_1 (GRU)                  (None, 8)                 408       \n",
            "_________________________________________________________________\n",
            "dense_1 (Dense)              (None, 3)                 27        \n",
            "=================================================================\n",
            "Total params: 8,435\n",
            "Trainable params: 8,435\n",
            "Non-trainable params: 0\n",
            "_________________________________________________________________\n"
          ],
          "name": "stdout"
        }
      ]
    },
    {
      "metadata": {
        "id": "eLOnZiA_1aeJ",
        "colab_type": "text"
      },
      "cell_type": "markdown",
      "source": [
        "## 5. Training and Validation\n",
        "<br>In this section, we will train each model and find out the score for the final model and the best model for each method.\n",
        "\n",
        "\n",
        "<br>We train each model with training flow we have prepared and validate them with our validation data that split from training set for 25%. For each method, we will set call back to save the best model (decided by looking at the validation loss) to files for later use.\n",
        "\n",
        "<br>For the final model in each method, we save to the file name 'model_x.h5'. For the best model in each method, we save to thr file name 'bestmodel_x.h5'.\n",
        "\n",
        "<br>Here is our code for training each model, find matrix scores like a confusion matrix and model accuracy, and plotting graphical representation comparing between accuracy with epoch and loss with epoch."
      ]
    },
    {
      "metadata": {
        "id": "zQX2vMzwA1c4",
        "colab_type": "text"
      },
      "cell_type": "markdown",
      "source": [
        "### 5.1. Model without Preprocessing Data"
      ]
    },
    {
      "metadata": {
        "id": "xXJ0WxsrA9xk",
        "colab_type": "text"
      },
      "cell_type": "markdown",
      "source": [
        "####  5.1.1. Conv1D Model"
      ]
    },
    {
      "metadata": {
        "id": "CL_dP3PgaROQ",
        "colab_type": "code",
        "outputId": "1e9911e6-7bdb-4587-ada5-6128f9394085",
        "colab": {
          "base_uri": "https://localhost:8080/",
          "height": 1313
        }
      },
      "cell_type": "code",
      "source": [
        "h1 = train_model('1',m1, x_train_nonpre, one_hot_labels)\n",
        "plot_history(h1)"
      ],
      "execution_count": 0,
      "outputs": [
        {
          "output_type": "stream",
          "text": [
            "Training the model ...\n",
            "Train on 7500 samples, validate on 2500 samples\n",
            "Epoch 1/10\n",
            "7500/7500 [==============================] - 30s 4ms/step - loss: 1.0358 - acc: 0.4867 - val_loss: 0.9994 - val_acc: 0.5172\n",
            "Epoch 2/10\n",
            "7500/7500 [==============================] - 29s 4ms/step - loss: 0.9419 - acc: 0.5697 - val_loss: 0.9724 - val_acc: 0.5712\n",
            "Epoch 3/10\n",
            "7500/7500 [==============================] - 29s 4ms/step - loss: 0.8631 - acc: 0.6215 - val_loss: 1.0466 - val_acc: 0.5652\n",
            "Epoch 4/10\n",
            "7500/7500 [==============================] - 30s 4ms/step - loss: 0.8146 - acc: 0.6423 - val_loss: 0.9078 - val_acc: 0.6156\n",
            "Epoch 5/10\n",
            "7500/7500 [==============================] - 30s 4ms/step - loss: 0.7692 - acc: 0.6727 - val_loss: 0.9099 - val_acc: 0.6068\n",
            "Epoch 6/10\n",
            "7500/7500 [==============================] - 29s 4ms/step - loss: 0.7178 - acc: 0.6869 - val_loss: 0.9616 - val_acc: 0.5824\n",
            "Epoch 7/10\n",
            "7500/7500 [==============================] - 30s 4ms/step - loss: 0.6637 - acc: 0.7175 - val_loss: 1.0013 - val_acc: 0.5836\n",
            "Epoch 8/10\n",
            "7500/7500 [==============================] - 30s 4ms/step - loss: 0.6034 - acc: 0.7476 - val_loss: 1.1511 - val_acc: 0.5768\n",
            "Epoch 9/10\n",
            "7500/7500 [==============================] - 29s 4ms/step - loss: 0.5395 - acc: 0.7756 - val_loss: 1.1267 - val_acc: 0.5764\n",
            "Epoch 10/10\n",
            "7500/7500 [==============================] - 29s 4ms/step - loss: 0.4694 - acc: 0.8105 - val_loss: 1.2022 - val_acc: 0.5880\n",
            "Training done, time used is 295.6320815086365\n",
            "\n",
            "Calculating Final Model Scores :\n",
            "--------------------Final Model Scores--------------------\n",
            "Total accuracy: 0.5880\n",
            "Confusion matrix:\n",
            "[[128 191 210]\n",
            " [193 763 261]\n",
            " [ 59 116 579]]\n",
            "Support:  [ 529 1217  754]\n",
            "Precision: [ 0.337  0.713  0.551]\n",
            "Recall:    [ 0.242  0.627  0.768]\n",
            "F-score:   [ 0.282  0.667  0.642]\n",
            "---------------------------------------------------------\n",
            "\n",
            "Calculating Best Model Scores :\n",
            "--------------------Best Model Scores--------------------\n",
            "Total accuracy: 0.6156\n",
            "Confusion matrix:\n",
            "[[   2  389  138]\n",
            " [   0 1090  127]\n",
            " [   1  306  447]]\n",
            "Support:  [ 529 1217  754]\n",
            "Precision: [ 0.667  0.611  0.628]\n",
            "Recall:    [ 0.004  0.896  0.593]\n",
            "F-score:   [ 0.008  0.726  0.610]\n",
            "---------------------------------------------------------\n",
            "\n"
          ],
          "name": "stdout"
        },
        {
          "output_type": "display_data",
          "data": {
            "image/png": "[encoded data removed]",
            "text/plain": [
              "<Figure size 1152x504 with 2 Axes>"
            ]
          },
          "metadata": {
            "tags": []
          }
        }
      ]
    },
    {
      "metadata": {
        "id": "mHFDp28-cXI5",
        "colab_type": "code",
        "colab": {}
      },
      "cell_type": "code",
      "source": [
        "del m1\n",
        "del h1\n",
        "tf.reset_default_graph()\n",
        "K.clear_session()"
      ],
      "execution_count": 0,
      "outputs": []
    },
    {
      "metadata": {
        "id": "-q_tOkCjA1lP",
        "colab_type": "text"
      },
      "cell_type": "markdown",
      "source": [
        "#### 5.1.2. LSTM Model"
      ]
    },
    {
      "metadata": {
        "id": "RsejSk7XdhTq",
        "colab_type": "code",
        "outputId": "3c566fa9-65aa-4ca1-c94b-20008434a4f3",
        "colab": {
          "base_uri": "https://localhost:8080/",
          "height": 1313
        }
      },
      "cell_type": "code",
      "source": [
        "h2 = train_model('2', m2, x_train_nonpre, one_hot_labels)\n",
        "plot_history(h2)"
      ],
      "execution_count": 0,
      "outputs": [
        {
          "output_type": "stream",
          "text": [
            "Training the model ...\n",
            "Train on 7500 samples, validate on 2500 samples\n",
            "Epoch 1/10\n",
            "7500/7500 [==============================] - 67s 9ms/step - loss: 1.0452 - acc: 0.5164 - val_loss: 0.9663 - val_acc: 0.6056\n",
            "Epoch 2/10\n",
            "7500/7500 [==============================] - 67s 9ms/step - loss: 0.9259 - acc: 0.6224 - val_loss: 0.9170 - val_acc: 0.6252\n",
            "Epoch 3/10\n",
            "7500/7500 [==============================] - 67s 9ms/step - loss: 0.8730 - acc: 0.6439 - val_loss: 0.8894 - val_acc: 0.6356\n",
            "Epoch 4/10\n",
            "7500/7500 [==============================] - 66s 9ms/step - loss: 0.8449 - acc: 0.6573 - val_loss: 1.1397 - val_acc: 0.5716\n",
            "Epoch 5/10\n",
            "7500/7500 [==============================] - 66s 9ms/step - loss: 0.8244 - acc: 0.6659 - val_loss: 0.9206 - val_acc: 0.6108\n",
            "Epoch 6/10\n",
            "7500/7500 [==============================] - 67s 9ms/step - loss: 0.8036 - acc: 0.6736 - val_loss: 0.9042 - val_acc: 0.6312\n",
            "Epoch 7/10\n",
            "7500/7500 [==============================] - 66s 9ms/step - loss: 0.7907 - acc: 0.6803 - val_loss: 0.8944 - val_acc: 0.6284\n",
            "Epoch 8/10\n",
            "7500/7500 [==============================] - 66s 9ms/step - loss: 0.7792 - acc: 0.6889 - val_loss: 0.9248 - val_acc: 0.5972\n",
            "Epoch 9/10\n",
            "7500/7500 [==============================] - 66s 9ms/step - loss: 0.7680 - acc: 0.6940 - val_loss: 0.9176 - val_acc: 0.6244\n",
            "Epoch 10/10\n",
            "7500/7500 [==============================] - 66s 9ms/step - loss: 0.7616 - acc: 0.6949 - val_loss: 0.9017 - val_acc: 0.6136\n",
            "Training done, time used is 666.6344854831696\n",
            "\n",
            "Calculating Final Model Scores :\n",
            "--------------------Final Model Scores--------------------\n",
            "Total accuracy: 0.6136\n",
            "Confusion matrix:\n",
            "[[135 256 138]\n",
            " [179 901 137]\n",
            " [ 82 174 498]]\n",
            "Support:  [ 529 1217  754]\n",
            "Precision: [ 0.341  0.677  0.644]\n",
            "Recall:    [ 0.255  0.740  0.660]\n",
            "F-score:   [ 0.292  0.707  0.652]\n",
            "---------------------------------------------------------\n",
            "\n",
            "Calculating Best Model Scores :\n",
            "--------------------Best Model Scores--------------------\n",
            "Total accuracy: 0.6356\n",
            "Confusion matrix:\n",
            "[[   3  358  168]\n",
            " [   1 1054  162]\n",
            " [   2  220  532]]\n",
            "Support:  [ 529 1217  754]\n",
            "Precision: [ 0.500  0.646  0.617]\n",
            "Recall:    [ 0.006  0.866  0.706]\n",
            "F-score:   [ 0.011  0.740  0.658]\n",
            "---------------------------------------------------------\n",
            "\n"
          ],
          "name": "stdout"
        },
        {
          "output_type": "display_data",
          "data": {
            "image/png": "[encoded data removed]",
            "text/plain": [
              "<Figure size 1152x504 with 2 Axes>"
            ]
          },
          "metadata": {
            "tags": []
          }
        }
      ]
    },
    {
      "metadata": {
        "id": "YvlspTMYePVj",
        "colab_type": "code",
        "colab": {}
      },
      "cell_type": "code",
      "source": [
        "del m2\n",
        "del h2\n",
        "tf.reset_default_graph()\n",
        "K.clear_session()"
      ],
      "execution_count": 0,
      "outputs": []
    },
    {
      "metadata": {
        "id": "D4ajAbcrA1uk",
        "colab_type": "text"
      },
      "cell_type": "markdown",
      "source": [
        "#### 5.1.3. GRU Model"
      ]
    },
    {
      "metadata": {
        "id": "MUoqWxrelGdZ",
        "colab_type": "code",
        "outputId": "0a0aabed-4a68-4ae8-f903-5d4f0dd30145",
        "colab": {
          "base_uri": "https://localhost:8080/",
          "height": 1313
        }
      },
      "cell_type": "code",
      "source": [
        "h3 = train_model('3',m3, x_train_nonpre, one_hot_labels)\n",
        "plot_history(h3)"
      ],
      "execution_count": 0,
      "outputs": [
        {
          "output_type": "stream",
          "text": [
            "Training the model ...\n",
            "Train on 7500 samples, validate on 2500 samples\n",
            "Epoch 1/10\n",
            "7500/7500 [==============================] - 59s 8ms/step - loss: 1.0482 - acc: 0.4852 - val_loss: 1.0339 - val_acc: 0.4868\n",
            "Epoch 2/10\n",
            "7500/7500 [==============================] - 58s 8ms/step - loss: 1.0237 - acc: 0.4868 - val_loss: 1.0177 - val_acc: 0.4872\n",
            "Epoch 3/10\n",
            "7500/7500 [==============================] - 57s 8ms/step - loss: 0.9924 - acc: 0.5129 - val_loss: 0.9911 - val_acc: 0.5212\n",
            "Epoch 4/10\n",
            "7500/7500 [==============================] - 57s 8ms/step - loss: 0.9518 - acc: 0.5616 - val_loss: 0.9748 - val_acc: 0.5344\n",
            "Epoch 5/10\n",
            "7500/7500 [==============================] - 57s 8ms/step - loss: 0.9176 - acc: 0.5875 - val_loss: 0.9487 - val_acc: 0.5636\n",
            "Epoch 6/10\n",
            "7500/7500 [==============================] - 58s 8ms/step - loss: 0.8942 - acc: 0.6047 - val_loss: 0.9363 - val_acc: 0.5780\n",
            "Epoch 7/10\n",
            "7500/7500 [==============================] - 58s 8ms/step - loss: 0.8841 - acc: 0.6116 - val_loss: 0.9273 - val_acc: 0.5828\n",
            "Epoch 8/10\n",
            "7500/7500 [==============================] - 56s 8ms/step - loss: 0.8673 - acc: 0.6205 - val_loss: 0.9184 - val_acc: 0.5832\n",
            "Epoch 9/10\n",
            "7500/7500 [==============================] - 57s 8ms/step - loss: 0.8644 - acc: 0.6228 - val_loss: 0.9144 - val_acc: 0.5900\n",
            "Epoch 10/10\n",
            "7500/7500 [==============================] - 57s 8ms/step - loss: 0.8521 - acc: 0.6215 - val_loss: 0.9151 - val_acc: 0.5848\n",
            "Training done, time used is 576.5405278205872\n",
            "\n",
            "Calculating Final Model Scores :\n",
            "--------------------Final Model Scores--------------------\n",
            "Total accuracy: 0.5848\n",
            "Confusion matrix:\n",
            "[[  4 346 179]\n",
            " [  7 986 224]\n",
            " [  7 275 472]]\n",
            "Support:  [ 529 1217  754]\n",
            "Precision: [ 0.222  0.614  0.539]\n",
            "Recall:    [ 0.008  0.810  0.626]\n",
            "F-score:   [ 0.015  0.698  0.579]\n",
            "---------------------------------------------------------\n",
            "\n",
            "Calculating Best Model Scores :\n",
            "--------------------Best Model Scores--------------------\n",
            "Total accuracy: 0.5900\n",
            "Confusion matrix:\n",
            "[[   1  364  164]\n",
            " [   3 1021  193]\n",
            " [   2  299  453]]\n",
            "Support:  [ 529 1217  754]\n",
            "Precision: [ 0.167  0.606  0.559]\n",
            "Recall:    [ 0.002  0.839  0.601]\n",
            "F-score:   [ 0.004  0.704  0.579]\n",
            "---------------------------------------------------------\n",
            "\n"
          ],
          "name": "stdout"
        },
        {
          "output_type": "display_data",
          "data": {
            "image/png": "[encoded data removed]",
            "text/plain": [
              "<Figure size 1152x504 with 2 Axes>"
            ]
          },
          "metadata": {
            "tags": []
          }
        }
      ]
    },
    {
      "metadata": {
        "id": "aZy0vSJqnPD-",
        "colab_type": "code",
        "colab": {}
      },
      "cell_type": "code",
      "source": [
        "del m3\n",
        "del h3\n",
        "tf.reset_default_graph()\n",
        "K.clear_session()"
      ],
      "execution_count": 0,
      "outputs": []
    },
    {
      "metadata": {
        "id": "gE0Vma20A1_V",
        "colab_type": "text"
      },
      "cell_type": "markdown",
      "source": [
        "### 5.2. Model with Preprocessing Data"
      ]
    },
    {
      "metadata": {
        "id": "mFpiFpE6A2Hs",
        "colab_type": "text"
      },
      "cell_type": "markdown",
      "source": [
        "#### 5.2.1. Conv1D Model"
      ]
    },
    {
      "metadata": {
        "id": "iYmiR3n3nrjV",
        "colab_type": "code",
        "outputId": "62cbfde0-0e8d-4974-aa96-f1df211422fc",
        "colab": {
          "base_uri": "https://localhost:8080/",
          "height": 1313
        }
      },
      "cell_type": "code",
      "source": [
        "h4 = train_model('4',m4, x_train, one_hot_labels)\n",
        "plot_history(h4)"
      ],
      "execution_count": 0,
      "outputs": [
        {
          "output_type": "stream",
          "text": [
            "Training the model ...\n",
            "Train on 7500 samples, validate on 2500 samples\n",
            "Epoch 1/10\n",
            "7500/7500 [==============================] - 30s 4ms/step - loss: 1.0233 - acc: 0.5032 - val_loss: 0.9751 - val_acc: 0.5512\n",
            "Epoch 2/10\n",
            "7500/7500 [==============================] - 29s 4ms/step - loss: 0.9290 - acc: 0.5815 - val_loss: 0.9553 - val_acc: 0.5656\n",
            "Epoch 3/10\n",
            "7500/7500 [==============================] - 30s 4ms/step - loss: 0.8899 - acc: 0.6081 - val_loss: 0.9332 - val_acc: 0.5836\n",
            "Epoch 4/10\n",
            "7500/7500 [==============================] - 29s 4ms/step - loss: 0.8646 - acc: 0.6217 - val_loss: 1.0017 - val_acc: 0.5688\n",
            "Epoch 5/10\n",
            "7500/7500 [==============================] - 29s 4ms/step - loss: 0.8342 - acc: 0.6321 - val_loss: 0.9575 - val_acc: 0.5712\n",
            "Epoch 6/10\n",
            "7500/7500 [==============================] - 29s 4ms/step - loss: 0.8016 - acc: 0.6504 - val_loss: 0.9731 - val_acc: 0.5784\n",
            "Epoch 7/10\n",
            "7500/7500 [==============================] - 29s 4ms/step - loss: 0.7575 - acc: 0.6697 - val_loss: 1.1101 - val_acc: 0.5416\n",
            "Epoch 8/10\n",
            "7500/7500 [==============================] - 29s 4ms/step - loss: 0.7045 - acc: 0.7019 - val_loss: 1.0349 - val_acc: 0.5420\n",
            "Epoch 9/10\n",
            "7500/7500 [==============================] - 29s 4ms/step - loss: 0.6441 - acc: 0.7243 - val_loss: 1.1264 - val_acc: 0.5640\n",
            "Epoch 10/10\n",
            "7500/7500 [==============================] - 29s 4ms/step - loss: 0.5733 - acc: 0.7633 - val_loss: 1.2752 - val_acc: 0.5468\n",
            "Training done, time used is 292.8785352706909\n",
            "\n",
            "Calculating Final Model Scores :\n",
            "--------------------Final Model Scores--------------------\n",
            "Total accuracy: 0.5468\n",
            "Confusion matrix:\n",
            "[[ 37 279 213]\n",
            " [ 66 841 310]\n",
            " [ 38 227 489]]\n",
            "Support:  [ 529 1217  754]\n",
            "Precision: [ 0.262  0.624  0.483]\n",
            "Recall:    [ 0.070  0.691  0.649]\n",
            "F-score:   [ 0.110  0.656  0.554]\n",
            "---------------------------------------------------------\n",
            "\n",
            "Calculating Best Model Scores :\n",
            "--------------------Best Model Scores--------------------\n",
            "Total accuracy: 0.5836\n",
            "Confusion matrix:\n",
            "[[   2  411  116]\n",
            " [   2 1097  118]\n",
            " [   6  388  360]]\n",
            "Support:  [ 529 1217  754]\n",
            "Precision: [ 0.200  0.579  0.606]\n",
            "Recall:    [ 0.004  0.901  0.477]\n",
            "F-score:   [ 0.007  0.705  0.534]\n",
            "---------------------------------------------------------\n",
            "\n"
          ],
          "name": "stdout"
        },
        {
          "output_type": "display_data",
          "data": {
            "image/png": "[encoded data removed]",
            "text/plain": [
              "<Figure size 1152x504 with 2 Axes>"
            ]
          },
          "metadata": {
            "tags": []
          }
        }
      ]
    },
    {
      "metadata": {
        "id": "Pc5OCNGunrnB",
        "colab_type": "code",
        "colab": {}
      },
      "cell_type": "code",
      "source": [
        "del m4\n",
        "del h4\n",
        "tf.reset_default_graph()\n",
        "K.clear_session()"
      ],
      "execution_count": 0,
      "outputs": []
    },
    {
      "metadata": {
        "id": "wJM9bLtQA2PZ",
        "colab_type": "text"
      },
      "cell_type": "markdown",
      "source": [
        "#### 5.2.2. LSTM Model"
      ]
    },
    {
      "metadata": {
        "id": "9M4Jw4Q_oZNV",
        "colab_type": "code",
        "outputId": "7fc60c67-81ce-48b9-bce8-0ff7640162ba",
        "colab": {
          "base_uri": "https://localhost:8080/",
          "height": 1313
        }
      },
      "cell_type": "code",
      "source": [
        "h5 = train_model('5', m5, x_train, one_hot_labels)\n",
        "plot_history(h5)"
      ],
      "execution_count": 0,
      "outputs": [
        {
          "output_type": "stream",
          "text": [
            "Training the model ...\n",
            "Train on 7500 samples, validate on 2500 samples\n",
            "Epoch 1/10\n",
            "7500/7500 [==============================] - 68s 9ms/step - loss: 1.0245 - acc: 0.5409 - val_loss: 0.9572 - val_acc: 0.5940\n",
            "Epoch 2/10\n",
            "7500/7500 [==============================] - 66s 9ms/step - loss: 0.9211 - acc: 0.6129 - val_loss: 0.9320 - val_acc: 0.5972\n",
            "Epoch 3/10\n",
            "7500/7500 [==============================] - 66s 9ms/step - loss: 0.8909 - acc: 0.6281 - val_loss: 0.9301 - val_acc: 0.6008\n",
            "Epoch 4/10\n",
            "7500/7500 [==============================] - 66s 9ms/step - loss: 0.8712 - acc: 0.6325 - val_loss: 0.9188 - val_acc: 0.6000\n",
            "Epoch 5/10\n",
            "7500/7500 [==============================] - 66s 9ms/step - loss: 0.8528 - acc: 0.6404 - val_loss: 0.9180 - val_acc: 0.6040\n",
            "Epoch 6/10\n",
            "7500/7500 [==============================] - 67s 9ms/step - loss: 0.8358 - acc: 0.6552 - val_loss: 0.9197 - val_acc: 0.6036\n",
            "Epoch 7/10\n",
            "7500/7500 [==============================] - 66s 9ms/step - loss: 0.8210 - acc: 0.6593 - val_loss: 0.9349 - val_acc: 0.5992\n",
            "Epoch 8/10\n",
            "7500/7500 [==============================] - 66s 9ms/step - loss: 0.8029 - acc: 0.6703 - val_loss: 0.9317 - val_acc: 0.6032\n",
            "Epoch 9/10\n",
            "7500/7500 [==============================] - 66s 9ms/step - loss: 0.7896 - acc: 0.6807 - val_loss: 0.9322 - val_acc: 0.6008\n",
            "Epoch 10/10\n",
            "7500/7500 [==============================] - 67s 9ms/step - loss: 0.7751 - acc: 0.6896 - val_loss: 0.9458 - val_acc: 0.5976\n",
            "Training done, time used is 665.0673899650574\n",
            "\n",
            "Calculating Final Model Scores :\n",
            "--------------------Final Model Scores--------------------\n",
            "Total accuracy: 0.5976\n",
            "Confusion matrix:\n",
            "[[  38  372  119]\n",
            " [  41 1039  137]\n",
            " [  34  303  417]]\n",
            "Support:  [ 529 1217  754]\n",
            "Precision: [ 0.336  0.606  0.620]\n",
            "Recall:    [ 0.072  0.854  0.553]\n",
            "F-score:   [ 0.118  0.709  0.584]\n",
            "---------------------------------------------------------\n",
            "\n",
            "Calculating Best Model Scores :\n",
            "--------------------Best Model Scores--------------------\n",
            "Total accuracy: 0.6040\n",
            "Confusion matrix:\n",
            "[[ 21 335 173]\n",
            " [ 25 966 226]\n",
            " [ 16 215 523]]\n",
            "Support:  [ 529 1217  754]\n",
            "Precision: [ 0.339  0.637  0.567]\n",
            "Recall:    [ 0.040  0.794  0.694]\n",
            "F-score:   [ 0.071  0.707  0.624]\n",
            "---------------------------------------------------------\n",
            "\n"
          ],
          "name": "stdout"
        },
        {
          "output_type": "display_data",
          "data": {
            "image/png": "[encoded data removed]",
            "text/plain": [
              "<Figure size 1152x504 with 2 Axes>"
            ]
          },
          "metadata": {
            "tags": []
          }
        }
      ]
    },
    {
      "metadata": {
        "id": "Px2zGASgoZRY",
        "colab_type": "code",
        "colab": {}
      },
      "cell_type": "code",
      "source": [
        "del m5\n",
        "del h5\n",
        "tf.reset_default_graph()\n",
        "K.clear_session()"
      ],
      "execution_count": 0,
      "outputs": []
    },
    {
      "metadata": {
        "id": "0vGDUgyeA2Ya",
        "colab_type": "text"
      },
      "cell_type": "markdown",
      "source": [
        "#### 5.2.3. GRU Model"
      ]
    },
    {
      "metadata": {
        "id": "jtuVVi6stQcc",
        "colab_type": "code",
        "outputId": "02b93942-faf8-44d3-b066-c06b2ec47930",
        "colab": {
          "base_uri": "https://localhost:8080/",
          "height": 1313
        }
      },
      "cell_type": "code",
      "source": [
        "h6 = train_model('6',m6, x_train, one_hot_labels)\n",
        "plot_history(h6)"
      ],
      "execution_count": 0,
      "outputs": [
        {
          "output_type": "stream",
          "text": [
            "Training the model ...\n",
            "Train on 7500 samples, validate on 2500 samples\n",
            "Epoch 1/10\n",
            "7500/7500 [==============================] - 59s 8ms/step - loss: 1.0366 - acc: 0.4851 - val_loss: 1.0142 - val_acc: 0.4868\n",
            "Epoch 2/10\n",
            "7500/7500 [==============================] - 57s 8ms/step - loss: 0.9804 - acc: 0.5293 - val_loss: 0.9636 - val_acc: 0.5556\n",
            "Epoch 3/10\n",
            "7500/7500 [==============================] - 57s 8ms/step - loss: 0.9202 - acc: 0.5879 - val_loss: 0.9370 - val_acc: 0.5704\n",
            "Epoch 4/10\n",
            "7500/7500 [==============================] - 58s 8ms/step - loss: 0.8948 - acc: 0.6020 - val_loss: 0.9229 - val_acc: 0.5772\n",
            "Epoch 5/10\n",
            "7500/7500 [==============================] - 58s 8ms/step - loss: 0.8717 - acc: 0.6131 - val_loss: 0.9154 - val_acc: 0.5832\n",
            "Epoch 6/10\n",
            "7500/7500 [==============================] - 57s 8ms/step - loss: 0.8617 - acc: 0.6197 - val_loss: 0.9112 - val_acc: 0.5864\n",
            "Epoch 7/10\n",
            "7500/7500 [==============================] - 57s 8ms/step - loss: 0.8496 - acc: 0.6277 - val_loss: 0.9123 - val_acc: 0.5880\n",
            "Epoch 8/10\n",
            "7500/7500 [==============================] - 57s 8ms/step - loss: 0.8481 - acc: 0.6264 - val_loss: 0.9079 - val_acc: 0.5876\n",
            "Epoch 9/10\n",
            "7500/7500 [==============================] - 57s 8ms/step - loss: 0.8414 - acc: 0.6285 - val_loss: 0.9046 - val_acc: 0.5916\n",
            "Epoch 10/10\n",
            "7500/7500 [==============================] - 58s 8ms/step - loss: 0.8393 - acc: 0.6339 - val_loss: 0.9045 - val_acc: 0.5912\n",
            "Training done, time used is 576.4097812175751\n",
            "\n",
            "Calculating Final Model Scores :\n",
            "--------------------Final Model Scores--------------------\n",
            "Total accuracy: 0.5912\n",
            "Confusion matrix:\n",
            "[[   0  350  179]\n",
            " [   2 1020  195]\n",
            " [   1  295  458]]\n",
            "Support:  [ 529 1217  754]\n",
            "Precision: [ 0.000  0.613  0.550]\n",
            "Recall:    [ 0.000  0.838  0.607]\n",
            "F-score:   [ 0.000  0.708  0.578]\n",
            "---------------------------------------------------------\n",
            "\n",
            "Calculating Best Model Scores :\n",
            "--------------------Best Model Scores--------------------\n",
            "Total accuracy: 0.5912\n",
            "Confusion matrix:\n",
            "[[   0  350  179]\n",
            " [   2 1020  195]\n",
            " [   1  295  458]]\n",
            "Support:  [ 529 1217  754]\n",
            "Precision: [ 0.000  0.613  0.550]\n",
            "Recall:    [ 0.000  0.838  0.607]\n",
            "F-score:   [ 0.000  0.708  0.578]\n",
            "---------------------------------------------------------\n",
            "\n"
          ],
          "name": "stdout"
        },
        {
          "output_type": "display_data",
          "data": {
            "image/png": "[encoded data removed]",
            "text/plain": [
              "<Figure size 1152x504 with 2 Axes>"
            ]
          },
          "metadata": {
            "tags": []
          }
        }
      ]
    },
    {
      "metadata": {
        "id": "qBXTqFxetQhN",
        "colab_type": "code",
        "colab": {}
      },
      "cell_type": "code",
      "source": [
        "del m6\n",
        "del h6\n",
        "tf.reset_default_graph()\n",
        "K.clear_session()"
      ],
      "execution_count": 0,
      "outputs": []
    },
    {
      "metadata": {
        "id": "r9uwON1gA2gM",
        "colab_type": "text"
      },
      "cell_type": "markdown",
      "source": [
        "### 5.3. Model with Selected Drug Data"
      ]
    },
    {
      "metadata": {
        "id": "g1duTWr2Bbh-",
        "colab_type": "text"
      },
      "cell_type": "markdown",
      "source": [
        "#### 5.3.1. GRU Model for Levonorgestrel Drug"
      ]
    },
    {
      "metadata": {
        "id": "hRsli0m499RN",
        "colab_type": "code",
        "outputId": "b4e69d0d-825f-485c-d79a-b91cccbe83a9",
        "colab": {
          "base_uri": "https://localhost:8080/",
          "height": 1313
        }
      },
      "cell_type": "code",
      "source": [
        "h7 = train_model('7',m7, x_train_levo, one_hot_labels_levo)\n",
        "plot_history(h7)"
      ],
      "execution_count": 0,
      "outputs": [
        {
          "output_type": "stream",
          "text": [
            "Training the model ...\n",
            "Train on 2742 samples, validate on 915 samples\n",
            "Epoch 1/10\n",
            "2742/2742 [==============================] - 22s 8ms/step - loss: 1.0237 - acc: 0.5408 - val_loss: 0.9842 - val_acc: 0.5486\n",
            "Epoch 2/10\n",
            "2742/2742 [==============================] - 21s 8ms/step - loss: 0.9664 - acc: 0.5489 - val_loss: 0.9575 - val_acc: 0.5497\n",
            "Epoch 3/10\n",
            "2742/2742 [==============================] - 21s 8ms/step - loss: 0.9261 - acc: 0.5613 - val_loss: 0.9296 - val_acc: 0.5760\n",
            "Epoch 4/10\n",
            "2742/2742 [==============================] - 20s 7ms/step - loss: 0.8827 - acc: 0.6014 - val_loss: 0.9016 - val_acc: 0.6044\n",
            "Epoch 5/10\n",
            "2742/2742 [==============================] - 21s 8ms/step - loss: 0.8326 - acc: 0.6437 - val_loss: 0.8776 - val_acc: 0.6295\n",
            "Epoch 6/10\n",
            "2742/2742 [==============================] - 21s 8ms/step - loss: 0.7992 - acc: 0.6699 - val_loss: 0.8601 - val_acc: 0.6317\n",
            "Epoch 7/10\n",
            "2742/2742 [==============================] - 21s 7ms/step - loss: 0.7749 - acc: 0.6761 - val_loss: 0.8418 - val_acc: 0.6361\n",
            "Epoch 8/10\n",
            "2742/2742 [==============================] - 21s 8ms/step - loss: 0.7508 - acc: 0.6798 - val_loss: 0.8314 - val_acc: 0.6536\n",
            "Epoch 9/10\n",
            "2742/2742 [==============================] - 21s 7ms/step - loss: 0.7292 - acc: 0.6940 - val_loss: 0.8236 - val_acc: 0.6557\n",
            "Epoch 10/10\n",
            "2742/2742 [==============================] - 21s 8ms/step - loss: 0.7266 - acc: 0.7028 - val_loss: 0.8211 - val_acc: 0.6579\n",
            "Training done, time used is 210.00670909881592\n",
            "\n",
            "Calculating Final Model Scores :\n",
            "--------------------Final Model Scores--------------------\n",
            "Total accuracy: 0.6579\n",
            "Confusion matrix:\n",
            "[[  0 112  63]\n",
            " [  0 450  52]\n",
            " [  0  86 152]]\n",
            "Support:  [175 502 238]\n",
            "Precision: [ 0.000  0.694  0.569]\n",
            "Recall:    [ 0.000  0.896  0.639]\n",
            "F-score:   [ 0.000  0.783  0.602]\n",
            "---------------------------------------------------------\n",
            "\n",
            "Calculating Best Model Scores :\n",
            "--------------------Best Model Scores--------------------\n",
            "Total accuracy: 0.6579\n",
            "Confusion matrix:\n",
            "[[  0 112  63]\n",
            " [  0 450  52]\n",
            " [  0  86 152]]\n",
            "Support:  [175 502 238]\n",
            "Precision: [ 0.000  0.694  0.569]\n",
            "Recall:    [ 0.000  0.896  0.639]\n",
            "F-score:   [ 0.000  0.783  0.602]\n",
            "---------------------------------------------------------\n",
            "\n"
          ],
          "name": "stdout"
        },
        {
          "output_type": "display_data",
          "data": {
            "image/png": "[encoded data removed]",
            "text/plain": [
              "<Figure size 1152x504 with 2 Axes>"
            ]
          },
          "metadata": {
            "tags": []
          }
        }
      ]
    },
    {
      "metadata": {
        "id": "UMvfeADe_AIK",
        "colab_type": "code",
        "colab": {}
      },
      "cell_type": "code",
      "source": [
        "del m7\n",
        "del h7\n",
        "tf.reset_default_graph()\n",
        "K.clear_session()"
      ],
      "execution_count": 0,
      "outputs": []
    },
    {
      "metadata": {
        "id": "nUW3zwZZBd6n",
        "colab_type": "text"
      },
      "cell_type": "markdown",
      "source": [
        "#### 5.3.2. GRU Model for Etonogestrel Drug"
      ]
    },
    {
      "metadata": {
        "id": "u1GvsUhdAMqu",
        "colab_type": "code",
        "outputId": "d26b1076-24ab-4bf8-9623-c0d766559502",
        "colab": {
          "base_uri": "https://localhost:8080/",
          "height": 1313
        }
      },
      "cell_type": "code",
      "source": [
        "h8 = train_model('8',m8, x_train_eto, one_hot_labels_eto)\n",
        "plot_history(h8)"
      ],
      "execution_count": 0,
      "outputs": [
        {
          "output_type": "stream",
          "text": [
            "Training the model ...\n",
            "Train on 2502 samples, validate on 834 samples\n",
            "Epoch 1/10\n",
            "2502/2502 [==============================] - 20s 8ms/step - loss: 1.0667 - acc: 0.4708 - val_loss: 1.0431 - val_acc: 0.4760\n",
            "Epoch 2/10\n",
            "2502/2502 [==============================] - 20s 8ms/step - loss: 1.0321 - acc: 0.4764 - val_loss: 1.0223 - val_acc: 0.4760\n",
            "Epoch 3/10\n",
            "2502/2502 [==============================] - 19s 8ms/step - loss: 1.0089 - acc: 0.4832 - val_loss: 0.9983 - val_acc: 0.4988\n",
            "Epoch 4/10\n",
            "2502/2502 [==============================] - 19s 8ms/step - loss: 0.9716 - acc: 0.5188 - val_loss: 0.9616 - val_acc: 0.5492\n",
            "Epoch 5/10\n",
            "2502/2502 [==============================] - 19s 8ms/step - loss: 0.9237 - acc: 0.5791 - val_loss: 0.9147 - val_acc: 0.5863\n",
            "Epoch 6/10\n",
            "2502/2502 [==============================] - 19s 8ms/step - loss: 0.8864 - acc: 0.6107 - val_loss: 0.9038 - val_acc: 0.5851\n",
            "Epoch 7/10\n",
            "2502/2502 [==============================] - 19s 8ms/step - loss: 0.8488 - acc: 0.6303 - val_loss: 0.8693 - val_acc: 0.6007\n",
            "Epoch 8/10\n",
            "2502/2502 [==============================] - 19s 8ms/step - loss: 0.8272 - acc: 0.6283 - val_loss: 0.8536 - val_acc: 0.6139\n",
            "Epoch 9/10\n",
            "2502/2502 [==============================] - 19s 8ms/step - loss: 0.8074 - acc: 0.6407 - val_loss: 0.8418 - val_acc: 0.6139\n",
            "Epoch 10/10\n",
            "2502/2502 [==============================] - 19s 8ms/step - loss: 0.7989 - acc: 0.6539 - val_loss: 0.8393 - val_acc: 0.6163\n",
            "Training done, time used is 194.47862815856934\n",
            "\n",
            "Calculating Final Model Scores :\n",
            "--------------------Final Model Scores--------------------\n",
            "Total accuracy: 0.6163\n",
            "Confusion matrix:\n",
            "[[  0  93  81]\n",
            " [  0 190  73]\n",
            " [  0  73 324]]\n",
            "Support:  [174 263 397]\n",
            "Precision: [ 0.000  0.534  0.678]\n",
            "Recall:    [ 0.000  0.722  0.816]\n",
            "F-score:   [ 0.000  0.614  0.741]\n",
            "---------------------------------------------------------\n",
            "\n",
            "Calculating Best Model Scores :\n",
            "--------------------Best Model Scores--------------------\n",
            "Total accuracy: 0.6163\n",
            "Confusion matrix:\n",
            "[[  0  93  81]\n",
            " [  0 190  73]\n",
            " [  0  73 324]]\n",
            "Support:  [174 263 397]\n",
            "Precision: [ 0.000  0.534  0.678]\n",
            "Recall:    [ 0.000  0.722  0.816]\n",
            "F-score:   [ 0.000  0.614  0.741]\n",
            "---------------------------------------------------------\n",
            "\n"
          ],
          "name": "stdout"
        },
        {
          "output_type": "display_data",
          "data": {
            "image/png": "[encoded data removed]",
            "text/plain": [
              "<Figure size 1152x504 with 2 Axes>"
            ]
          },
          "metadata": {
            "tags": []
          }
        }
      ]
    },
    {
      "metadata": {
        "id": "TyygLDs0ATIt",
        "colab_type": "code",
        "colab": {}
      },
      "cell_type": "code",
      "source": [
        "del m8\n",
        "del h8\n",
        "tf.reset_default_graph()\n",
        "K.clear_session()"
      ],
      "execution_count": 0,
      "outputs": []
    },
    {
      "metadata": {
        "id": "NInO5KPV1aeN",
        "colab_type": "text"
      },
      "cell_type": "markdown",
      "source": [
        "## 6. Evaluation\n",
        "<br>After training and validation process done, we will check what is the best model we have and use it to test with unseen test dataset."
      ]
    },
    {
      "metadata": {
        "id": "998GfxpA3Qep",
        "colab_type": "text"
      },
      "cell_type": "markdown",
      "source": [
        "### 6.1. Validation Comparison between Using Non-preprocessed Data and Preprocessed Data\n",
        "<hr>\n",
        "<br>In this section, we will compare the validation loss and validation accuracy between each model when we use non-preprocessed data and use preprocessed data. Here is our result."
      ]
    },
    {
      "metadata": {
        "id": "hjVESY8IU_RU",
        "colab_type": "code",
        "outputId": "ec3992e6-2e15-414a-bf91-a63566d3decb",
        "colab": {
          "base_uri": "https://localhost:8080/",
          "height": 324
        }
      },
      "cell_type": "code",
      "source": [
        "# compare model using non-preprocessed data with model using proprecessed data\n",
        "t = Texttable()\n",
        "acc = []\n",
        "for i in score_list:\n",
        "  accuracy_score = format(np.trace(i[1])/sum(i[1]))\n",
        "  acc.append(accuracy_score)\n",
        "t.add_rows([['Model', 'Using non-preprocessed data', 'Using preprocessed data'], \n",
        "            ['Conv1D Model', acc[0] ,acc[3] ], \n",
        "            ['LSTM Model', acc[1], acc[4]],\n",
        "            ['GRU Model', acc[2], acc[5]]\n",
        "           ])\n",
        "print ('Validation Accuracy Comparison')\n",
        "print (t.draw())\n",
        "print ('')"
      ],
      "execution_count": 0,
      "outputs": [
        {
          "output_type": "stream",
          "text": [
            "Validation Accuracy Comparison\n",
            "+--------------+-----------------------------+-------------------------+\n",
            "|    Model     | Using non-preprocessed data | Using preprocessed data |\n",
            "+==============+=============================+=========================+\n",
            "| Conv1D Model | 0.616                       | 0.584                   |\n",
            "+--------------+-----------------------------+-------------------------+\n",
            "| LSTM Model   | 0.636                       | 0.604                   |\n",
            "+--------------+-----------------------------+-------------------------+\n",
            "| GRU Model    | 0.590                       | 0.591                   |\n",
            "+--------------+-----------------------------+-------------------------+\n",
            "\n"
          ],
          "name": "stdout"
        }
      ]
    },
    {
      "metadata": {
        "id": "dfBFB2Sd3eA6",
        "colab_type": "text"
      },
      "cell_type": "markdown",
      "source": [
        "### 6.2. Test Scores for Best Selected Model\n",
        "<hr>\n",
        "<br>As you can see, the most accurate model we have is absolutely the model Conv1D with preprocessed dataset.\n",
        "\n",
        "<br>Compared to other models, this model has the highest accuracy score and lower validation loss. So, we choose this model as our model to test with unseen data from testing set.\n",
        "\n",
        "<br>You may notice the overfitting occurred during the training period, we will discuss about overfitiing later in discussion part.\n",
        "\n",
        "<br>Again, we will find matrix scores like a confusion matrix, model accuracy, precision, recall, f1-score, and support for this model using test dataset. Here are our code."
      ]
    },
    {
      "metadata": {
        "id": "yOVjbXpgwlhy",
        "colab_type": "code",
        "outputId": "73496a12-2747-4867-850f-ef5e4ef0e137",
        "colab": {
          "base_uri": "https://localhost:8080/",
          "height": 255
        }
      },
      "cell_type": "code",
      "source": [
        "# Load final model\n",
        "loadedmodel = load_model('bestmodel_5.h5')\n",
        "score = loadedmodel.evaluate(x_test, one_hot_labels_test, batch_size=32)\n",
        "print('Test loss:', score[0])\n",
        "print('Test accuracy:', score[1])\n",
        "\n",
        "# Print total accuracy and confusion matrix\n",
        "val_predicts = loadedmodel.predict(x_test)\n",
        "y_pred = argmax(val_predicts, axis = 1)\n",
        "labels_test_argmax = argmax(one_hot_labels_test, axis = 1)\n",
        "cm = confusion_matrix(labels_test_argmax, y_pred)\n",
        "print('-------------------- Model Scores--------------------')\n",
        "print('Total accuracy: {:.4f}'.format(np.trace(cm)/sum(cm)))\n",
        "print('Confusion matrix:')\n",
        "print(cm)\n",
        "\n",
        "# Calculate precision, recall, fscore and support\n",
        "with warnings.catch_warnings():\n",
        "    warnings.simplefilter(\"ignore\")\n",
        "    p, r, f, s = precision_recall_fscore_support(labels_test_argmax, y_pred)\n",
        "\n",
        "# Print precision, recall, fscore and support  \n",
        "np.set_printoptions(formatter={'float': '{: 0.3f}'.format})\n",
        "print('Support: ', s)\n",
        "print('Precision:', p)\n",
        "print('Recall:   ', r)\n",
        "print('F-score:  ', f)\n",
        "print('-----------------------------------------------------')"
      ],
      "execution_count": 0,
      "outputs": [
        {
          "output_type": "stream",
          "text": [
            "2000/2000 [==============================] - 3s 1ms/step\n",
            "Test loss: 1.1992476835250854\n",
            "Test accuracy: 0.446\n",
            "-------------------- Model Scores--------------------\n",
            "Total accuracy: 0.4460\n",
            "Confusion matrix:\n",
            "[[ 12 262 142]\n",
            " [ 25 607 348]\n",
            " [ 12 319 273]]\n",
            "Support:  [416 980 604]\n",
            "Precision: [ 0.245  0.511  0.358]\n",
            "Recall:    [ 0.029  0.619  0.452]\n",
            "F-score:   [ 0.052  0.560  0.399]\n",
            "-----------------------------------------------------\n"
          ],
          "name": "stdout"
        }
      ]
    },
    {
      "metadata": {
        "id": "qVFzQ9bhvYcf",
        "colab_type": "text"
      },
      "cell_type": "markdown",
      "source": [
        "In the last step, we come up with the model for drug review classification with an estimated accuracy of 44.6%."
      ]
    },
    {
      "metadata": {
        "id": "-rQ3WCvq1aeS",
        "colab_type": "text"
      },
      "cell_type": "markdown",
      "source": [
        "## 7. Results and Discussion\n",
        "<br>In this case study, we performed experiment to build the model to compare accuracy between using preprocesseing techniques to the text data and without using it. \n",
        "\n",
        "<br>We also experiment to build the model with only selected drug data to test whether seperate data for each drug will help model accuracy and loss improve or not.\n",
        "\n",
        "<br>Throughout our experiment, we often faced overfitting problem which we think can be solve by incresing data size and change complexity of our models. We will discuss this topics in the end of the results section.\n",
        "\n",
        "<br>So, in this section, we will seperate discussion into 3 topics.\n",
        "1. Discussion about Using Preprocessed Data\n",
        "2. Discussion about Seperated Model for each Drug\n",
        "3. Discussion about Overfitting"
      ]
    },
    {
      "metadata": {
        "id": "u8W0UucD4PfX",
        "colab_type": "text"
      },
      "cell_type": "markdown",
      "source": [
        "### 7.1. Discussion about Using Preprocessed Data\n",
        "<hr>\n",
        "\n",
        "<br>We use three different model to perform this experiment\n",
        "- Conv1D model\n",
        "- LSTM model\n",
        "- GRU model. \n",
        "\n",
        "<br>At first, we believed that with preprocessed text before put into the training data will result in betteraccuracy and lower loss value. There are many preprocessing text techniques we used in this experiment.\n",
        "- Stemming Words\n",
        "- Removing Stopwords\n",
        "- Removing Non-character characters\n",
        "- Convert to padding sequences\n",
        "\n",
        "<br>Then we train each model with both non-preprocessed data and preprocessed data to find the validation accuracy. Here is the comparison table."
      ]
    },
    {
      "metadata": {
        "id": "2uFLeNYfzNl9",
        "colab_type": "code",
        "outputId": "a5d49ea9-43a3-432a-ce20-0a5d37d24f6b",
        "colab": {
          "base_uri": "https://localhost:8080/",
          "height": 264
        }
      },
      "cell_type": "code",
      "source": [
        "# compare model using non-preprocessed data with model using proprecessed data\n",
        "t = Texttable()\n",
        "acc = []\n",
        "for i in score_list:\n",
        "  accuracy_score = format(np.trace(i[1])/sum(i[1]))\n",
        "  acc.append(accuracy_score)\n",
        "t.add_rows([['Model', 'Using non-preprocessed data', 'Using preprocessed data'], \n",
        "            ['Conv1D Model', acc[0] ,acc[3] ], \n",
        "            ['LSTM Model', acc[1], acc[4]],\n",
        "            ['GRU Model', acc[2], acc[5]]\n",
        "           ])\n",
        "print ('Validation Accuracy Comparison')\n",
        "print (t.draw())\n",
        "print ('')"
      ],
      "execution_count": 0,
      "outputs": [
        {
          "output_type": "stream",
          "text": [
            "Validation Accuracy Comparison\n",
            "+--------------+-----------------------------+-------------------------+\n",
            "|    Model     | Using non-preprocessed data | Using preprocessed data |\n",
            "+==============+=============================+=========================+\n",
            "| Conv1D Model | 0.616                       | 0.584                   |\n",
            "+--------------+-----------------------------+-------------------------+\n",
            "| LSTM Model   | 0.636                       | 0.604                   |\n",
            "+--------------+-----------------------------+-------------------------+\n",
            "| GRU Model    | 0.590                       | 0.591                   |\n",
            "+--------------+-----------------------------+-------------------------+\n",
            "\n"
          ],
          "name": "stdout"
        }
      ]
    },
    {
      "metadata": {
        "id": "xrYO5JIGzsxg",
        "colab_type": "text"
      },
      "cell_type": "markdown",
      "source": [
        "You can clearly see that, performing preprocessing text didn't help improve accuracy much. We think it's because of the stemming function also make the negative meaning became more positive rather than remain negative. \n",
        "\n",
        "<br>For example, word 'didn't', 'did', 'do', and 'don't', when we stemming these word will result in the same word 'do'. \n",
        "\n",
        "<br>This is the problem we found when we analyze the stemming function and think that, for text sentiment analysis, stemming word is not the suitable technique for this kind of problem. But we still think that removing stopword still the good practice for build model based on text input data."
      ]
    },
    {
      "metadata": {
        "id": "KQQ3GPrp1aeT",
        "colab_type": "text"
      },
      "cell_type": "markdown",
      "source": [
        "### 7.2. Discussion about Seperated Model for each Drug\n",
        "<hr>\n",
        "\n",
        "<br>For next experiment, as we stated earlier, we believed that seperating data to train model for each drug individually will result in the better model with higher accuracy and lower loss.\n",
        "\n",
        "<br>For example, we extract the Levenorgestrel drug review records to the new dataset and train model based on only this drug review. We think it will be better than use all dataset with different kind of drugs mixed together to train our model since the review information also based on type of drugs as well.\n",
        "\n",
        "<br>So, we experiment by ceate 2 new datasets\n",
        "- Only Levenorgestrel drug review dataset.\n",
        "- Only Etonogestrel drug review dataset.\n",
        "\n",
        "<br>Then, we train model with these 2 new data set using GRU model and compare them with GRU model that train with normal dataset to see accuarcy and loss scores\n",
        "\n",
        "<br>Here is the table of comparison.\n",
        "\n"
      ]
    },
    {
      "metadata": {
        "id": "gKrFKCSy3a1I",
        "colab_type": "code",
        "outputId": "5b298320-003f-48c3-a3eb-8c2fcdbe4551",
        "colab": {
          "base_uri": "https://localhost:8080/",
          "height": 210
        }
      },
      "cell_type": "code",
      "source": [
        "# compare model between seperated drug data model with normal GRU model\n",
        "t = Texttable()\n",
        "acc = []\n",
        "for i in score_list:\n",
        "  accuracy_score = format(np.trace(i[1])/sum(i[1]))\n",
        "  acc.append(accuracy_score)\n",
        "t.add_rows([['Normal GRU model', 'GRU model with only Levenorgestrel drug review dataset', 'GRU model with only Etonogestrel drug review dataset'], \n",
        "            [acc[5], acc[6] ,acc[7] ]\n",
        "           ])\n",
        "print ('Validation Accuracy Comparison')\n",
        "print (t.draw())\n",
        "print ('')"
      ],
      "execution_count": 0,
      "outputs": [
        {
          "output_type": "stream",
          "text": [
            "Validation Accuracy Comparison\n",
            "+------------------+-----------------------------+-----------------------------+\n",
            "| Normal GRU model |     GRU model with only     |     GRU model with only     |\n",
            "|                  | Levenorgestrel drug review  |  Etonogestrel drug review   |\n",
            "|                  |           dataset           |           dataset           |\n",
            "+==================+=============================+=============================+\n",
            "| 0.591            | 0.658                       | 0.616                       |\n",
            "+------------------+-----------------------------+-----------------------------+\n",
            "\n"
          ],
          "name": "stdout"
        }
      ]
    },
    {
      "metadata": {
        "id": "O-3uyefR37u6",
        "colab_type": "text"
      },
      "cell_type": "markdown",
      "source": [
        "As you can see, our assumption is correct. We think that with review data that associated with drug, we should consider drug information as well.\n",
        "\n",
        "<br>As you can see, when we treat drug information correctly, model accutracy will slightly increase."
      ]
    },
    {
      "metadata": {
        "id": "I1do7XY09MPO",
        "colab_type": "text"
      },
      "cell_type": "markdown",
      "source": [
        "### 7.3. Discussion about Overfitting\n",
        "<hr>"
      ]
    },
    {
      "metadata": {
        "id": "sQ3PB78N5Ed3",
        "colab_type": "text"
      },
      "cell_type": "markdown",
      "source": [
        "As you noticed, most of the time throughout our experiment, we faced overfitting problem.\n",
        "\n",
        "<br>We believed overfitting occured due to the data size for training data is not enough. \n",
        "\n",
        "<br>In this case study, due to the limitation of time and computing resources, we limit the training data to be only 7500 records, validation data to be only 2500 records, and testing data to be 2000 records. This considered to be very small number of data compare to the original data records (estimately 150000 records).\n",
        "\n",
        "<br>To prove our assumption, we perform another experiment by using all the model we have used in this case study to perform on the entire dataset we had (150000 records). Here are our results\n",
        "\n",
        "<br>\n",
        "\n",
        "\n",
        "\n"
      ]
    },
    {
      "metadata": {
        "id": "K1zt7yiCFJcu",
        "colab_type": "code",
        "outputId": "a30ec788-31c9-49e0-cbcd-cf6ebbe45461",
        "colab": {
          "base_uri": "https://localhost:8080/",
          "height": 204
        }
      },
      "cell_type": "code",
      "source": [
        "# compare model using non-preprocessed data with model using proprecessed data\n",
        "t = Texttable()\n",
        "acc = []\n",
        "for i in score_list:\n",
        "  accuracy_score = format(np.trace(i[1])/sum(i[1]))\n",
        "  acc.append(accuracy_score)\n",
        "t.add_rows([['Model', 'Using 10000 data records', 'Using 150000 data records'], \n",
        "            ['Conv1D Model', acc[3] ,\"0.8095\" ], \n",
        "            ['LSTM Model', acc[4], \"0.7954\"],\n",
        "            ['GRU Model', acc[5],\" 0.7986\"]\n",
        "           ])\n",
        "print ('Validation Accuracy Comparison')\n",
        "print (t.draw())\n",
        "print ('')"
      ],
      "execution_count": 0,
      "outputs": [
        {
          "output_type": "stream",
          "text": [
            "Validation Accuracy Comparison\n",
            "+--------------+--------------------------+---------------------------+\n",
            "|    Model     | Using 10000 data records | Using 150000 data records |\n",
            "+==============+==========================+===========================+\n",
            "| Conv1D Model | 0.584                    | 0.809                     |\n",
            "+--------------+--------------------------+---------------------------+\n",
            "| LSTM Model   | 0.604                    | 0.795                     |\n",
            "+--------------+--------------------------+---------------------------+\n",
            "| GRU Model    | 0.591                    | 0.799                     |\n",
            "+--------------+--------------------------+---------------------------+\n",
            "\n"
          ],
          "name": "stdout"
        }
      ]
    },
    {
      "metadata": {
        "id": "aaPwdB9VFt0b",
        "colab_type": "text"
      },
      "cell_type": "markdown",
      "source": [
        "As you can see, using more data result in better model accuracy and lower lost value. \n",
        "\n",
        "The full process and how we perform to train and validate dara can be read on supplementary norebook here.\n",
        "\n",
        "> LINK TO SUPPLEMENTARY NOTEBOOK FOR CASE 3\n",
        "\n",
        "You can see on that notebook that the overfitting problem has been solved, our assumption about increasing data size solved overfitting id correct."
      ]
    },
    {
      "metadata": {
        "id": "V2xN1wAS1aeW",
        "colab_type": "text"
      },
      "cell_type": "markdown",
      "source": [
        "## 8. Conclusions"
      ]
    },
    {
      "metadata": {
        "id": "DLCh-z10M9R4",
        "colab_type": "text"
      },
      "cell_type": "markdown",
      "source": [
        "After guessing and trying many times with different methods and models, we have so many models at our hands that can classify drug review rating. Each model we have trained has its own strength and weakness. In this case study, we want to experiment comparing model train with non-preprocessed data and model with preprocessed data to see which one is better and more suitable for this case classification.\n",
        "\n",
        "<br>Throughout experiments, we learned that preprocessed text with stemming techniques didn't help our models to improve accuracy and loss score. In contrast, it make our model become worse because it remove negative meaning information from our training data. However, our belief that removing stopword and seperate data by drug will increase model accuracy are correct.\n",
        "\n",
        "<br>We found out that in this experiment, we face overfitting very often. We think that overfitting occured because of lack of enough data so we do another seperate experiment with a huge set of data to see that with enough and very large data, the overfitting problem will be solve or not. And the result claim that our assumption is true, increasing data size definitely improve model accuracy and solve overfitting.\n",
        "\n",
        "<br>We believe that with more time and computation resources, we can make our model performed better by increasing the size of training data and solve the overfitting problem.\n"
      ]
    },
    {
      "metadata": {
        "id": "tzXTNFhsM9js",
        "colab_type": "text"
      },
      "cell_type": "markdown",
      "source": [
        "<hr>"
      ]
    }
  ]
}